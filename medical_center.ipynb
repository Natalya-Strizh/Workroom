{
 "cells": [
  {
   "cell_type": "markdown",
   "id": "eae901b1-a16c-4bc6-9c9d-e084ea0f2e60",
   "metadata": {},
   "source": [
    "# Анализ изменения цены лечения в медицинской клинике "
   ]
  },
  {
   "cell_type": "markdown",
   "id": "be79520b-e3c8-481e-8566-dbf3692cfb1c",
   "metadata": {},
   "source": [
    "<div style=\"border:solid blue 2px; padding: 20px\">\n",
    "    \n",
    "* **ФИО**: Стриж Наталья Валентиновна</br>\n",
    "* **Telegram**: https://t.me/natashaneteli </br>\n",
    "* **Презентация**: https://disk.yandex.ru/i/TytVrbWRwKorsQ"
   ]
  },
  {
   "cell_type": "markdown",
   "id": "21411985-7acd-4a94-807b-9b3a0a908608",
   "metadata": {},
   "source": [
    "Перед нами данные медицинского центра. Необходимо провести анализ изменения цены лечения в медицинской клинике в 2022 году относительно 2021 года и определить ключевые драйверы изменения цены лечения. "
   ]
  },
  {
   "cell_type": "markdown",
   "id": "e28b3307-44e4-40cb-8796-fc1365396f4b",
   "metadata": {},
   "source": [
    "**План**\n",
    "1. [Загрузка данных и изучение общей информации.](#section_id_1)</br>\n",
    "\n",
    "2. [Предобработка данных.](#section_id_2)</br>\n",
    "\n",
    "* 2.1 Работа с типом данных.</br>\n",
    "* 2.2. Работа с пропусками.</br>\n",
    "* 2.3. Работа с дубликатами.</br>\n",
    "* 2.4. Работа с аномальными значениями.</br>\n",
    "* 2.5. Добавление столбов месяца и года обслуживания.</br>\n",
    "* 2.6. Разделение датафрейма на 2 по году.</br>\n",
    "\n",
    "3. [Исследовательский анализ данных.](#section_id_3)</br>\n",
    "\n",
    "* 3.1. Анализ посещений.</br>\n",
    "* 3.2. Анализ по возрасту.</br>\n",
    "* 3.3. Анализ распределения услуг.</br>\n",
    "* 3.4. Анализ по полу.</br>\n",
    "* 3.5. Анализ стабильности пациентов.</br>\n",
    "* 3.6. Анализ прибыли.</br>\n",
    "* 3.7. Анализ по лечениям.</br>\n",
    "\n",
    "4. [Проверка гипотез.](#section_id_4)</br>\n",
    "\n",
    "* 4.1. Подорожание услуг.</br>\n",
    "* 4.2. Возраст и количество используемых услуг.</br>\n",
    "* 4.3. Количество лечений на пациента.</br>\n",
    "\n",
    "5. [Общий вывод.](#section_id_5)</br>"
   ]
  },
  {
   "cell_type": "markdown",
   "id": "3bd3b032-f4ba-4598-bda0-7f131e91f6cc",
   "metadata": {},
   "source": [
    "**Описание данных.** </br>\n",
    "\n",
    "* `record_id` - уникальный идентификатор строки данных;</br>\n",
    "* `service_date` - дата оказания медицинской услуги;</br>\n",
    "* `service_name` - наименование медицинской услуги;</br>\n",
    "* `service_number` - количество услуг;</br>\n",
    "* `service_amount` - сумма выплат (стоимость оказанных услуг в рублях);</br>\n",
    "* `insured` - уникальный идентификатор пациента;</br>\n",
    "* `sex_id` - пол пациента;</br>\n",
    "* `age_for_service_date` - возраст пациента</br>"
   ]
  },
  {
   "cell_type": "markdown",
   "id": "0c6462ec-33aa-40de-9bb0-8e02582d1eee",
   "metadata": {},
   "source": [
    "## 1. Загрузка данных и изучение общей информации.<a id='section_id_1'></a>"
   ]
  },
  {
   "cell_type": "code",
   "execution_count": 123,
   "id": "8c53e144-f029-4cb5-b56b-f373d2c237b8",
   "metadata": {},
   "outputs": [],
   "source": [
    "import pandas as pd \n",
    "import matplotlib.pyplot as plt\n",
    "import seaborn as sns\n",
    "from matplotlib.patches import Patch\n",
    "from scipy import stats\n",
    "from scipy.stats import mannwhitneyu\n",
    "import warnings"
   ]
  },
  {
   "cell_type": "code",
   "execution_count": 124,
   "id": "60860310-2539-4343-8f6e-8740eff99c2f",
   "metadata": {},
   "outputs": [],
   "source": [
    "# чтение данных\n",
    "data = pd.read_excel('data_test_task_2022.xlsx')"
   ]
  },
  {
   "cell_type": "code",
   "execution_count": 125,
   "id": "f6e04042-42a2-4d74-a532-cb8a74e27e47",
   "metadata": {},
   "outputs": [
    {
     "data": {
      "text/html": [
       "<div>\n",
       "<style scoped>\n",
       "    .dataframe tbody tr th:only-of-type {\n",
       "        vertical-align: middle;\n",
       "    }\n",
       "\n",
       "    .dataframe tbody tr th {\n",
       "        vertical-align: top;\n",
       "    }\n",
       "\n",
       "    .dataframe thead th {\n",
       "        text-align: right;\n",
       "    }\n",
       "</style>\n",
       "<table border=\"1\" class=\"dataframe\">\n",
       "  <thead>\n",
       "    <tr style=\"text-align: right;\">\n",
       "      <th></th>\n",
       "      <th>record_id</th>\n",
       "      <th>service_date</th>\n",
       "      <th>service_name</th>\n",
       "      <th>service_amount</th>\n",
       "      <th>service_number</th>\n",
       "      <th>insured</th>\n",
       "      <th>sex_id</th>\n",
       "      <th>age_for_service_date</th>\n",
       "    </tr>\n",
       "  </thead>\n",
       "  <tbody>\n",
       "    <tr>\n",
       "      <th>0</th>\n",
       "      <td>30268157003</td>\n",
       "      <td>2021-01-24</td>\n",
       "      <td>Прием первичный</td>\n",
       "      <td>1470</td>\n",
       "      <td>1</td>\n",
       "      <td>490777</td>\n",
       "      <td>2.0</td>\n",
       "      <td>26</td>\n",
       "    </tr>\n",
       "    <tr>\n",
       "      <th>1</th>\n",
       "      <td>30268157103</td>\n",
       "      <td>2021-01-24</td>\n",
       "      <td>Взятие материала на посев, цитологическое иссл...</td>\n",
       "      <td>284</td>\n",
       "      <td>1</td>\n",
       "      <td>490777</td>\n",
       "      <td>2.0</td>\n",
       "      <td>26</td>\n",
       "    </tr>\n",
       "    <tr>\n",
       "      <th>2</th>\n",
       "      <td>30268157203</td>\n",
       "      <td>2021-01-24</td>\n",
       "      <td>Посев отдел, дыхательных путей - слизистая зев...</td>\n",
       "      <td>1134</td>\n",
       "      <td>1</td>\n",
       "      <td>490777</td>\n",
       "      <td>2.0</td>\n",
       "      <td>26</td>\n",
       "    </tr>\n",
       "    <tr>\n",
       "      <th>3</th>\n",
       "      <td>30268157303</td>\n",
       "      <td>2021-01-24</td>\n",
       "      <td>Общий анализ крови (лейкоцитарная форм,, СОЭ)</td>\n",
       "      <td>693</td>\n",
       "      <td>1</td>\n",
       "      <td>490777</td>\n",
       "      <td>2.0</td>\n",
       "      <td>26</td>\n",
       "    </tr>\n",
       "    <tr>\n",
       "      <th>4</th>\n",
       "      <td>30268157403</td>\n",
       "      <td>2021-01-24</td>\n",
       "      <td>Ревматоидный фактор</td>\n",
       "      <td>420</td>\n",
       "      <td>1</td>\n",
       "      <td>490777</td>\n",
       "      <td>2.0</td>\n",
       "      <td>26</td>\n",
       "    </tr>\n",
       "  </tbody>\n",
       "</table>\n",
       "</div>"
      ],
      "text/plain": [
       "     record_id service_date  \\\n",
       "0  30268157003   2021-01-24   \n",
       "1  30268157103   2021-01-24   \n",
       "2  30268157203   2021-01-24   \n",
       "3  30268157303   2021-01-24   \n",
       "4  30268157403   2021-01-24   \n",
       "\n",
       "                                        service_name  service_amount  \\\n",
       "0                                    Прием первичный            1470   \n",
       "1  Взятие материала на посев, цитологическое иссл...             284   \n",
       "2  Посев отдел, дыхательных путей - слизистая зев...            1134   \n",
       "3      Общий анализ крови (лейкоцитарная форм,, СОЭ)             693   \n",
       "4                                Ревматоидный фактор             420   \n",
       "\n",
       "   service_number  insured  sex_id  age_for_service_date  \n",
       "0               1   490777     2.0                    26  \n",
       "1               1   490777     2.0                    26  \n",
       "2               1   490777     2.0                    26  \n",
       "3               1   490777     2.0                    26  \n",
       "4               1   490777     2.0                    26  "
      ]
     },
     "execution_count": 125,
     "metadata": {},
     "output_type": "execute_result"
    }
   ],
   "source": [
    "# вывод первых 5 строк таблицы\n",
    "data.head()"
   ]
  },
  {
   "cell_type": "code",
   "execution_count": 126,
   "id": "18fd4741-8f98-426a-8470-26feb5e6196c",
   "metadata": {},
   "outputs": [
    {
     "name": "stdout",
     "output_type": "stream",
     "text": [
      "<class 'pandas.core.frame.DataFrame'>\n",
      "RangeIndex: 85369 entries, 0 to 85368\n",
      "Data columns (total 8 columns):\n",
      " #   Column                Non-Null Count  Dtype  \n",
      "---  ------                --------------  -----  \n",
      " 0   record_id             85369 non-null  int64  \n",
      " 1   service_date          85369 non-null  object \n",
      " 2   service_name          85369 non-null  object \n",
      " 3   service_amount        85369 non-null  int64  \n",
      " 4   service_number        85369 non-null  int64  \n",
      " 5   insured               85369 non-null  int64  \n",
      " 6   sex_id                85348 non-null  float64\n",
      " 7   age_for_service_date  85369 non-null  int64  \n",
      "dtypes: float64(1), int64(5), object(2)\n",
      "memory usage: 5.2+ MB\n"
     ]
    }
   ],
   "source": [
    "# описание данных\n",
    "data.info()"
   ]
  },
  {
   "cell_type": "markdown",
   "id": "bf64e2e7-f606-4ae0-81e0-4231ea159347",
   "metadata": {},
   "source": [
    "<div style=\"border:solid blue 2px; padding: 20px\">\n",
    "    \n",
    "**Вывод по пункту.**</br>\n",
    "Перед нами 85 тысяч строк. Необходимо произвести обработку данных и изменить некоторые типы данных."
   ]
  },
  {
   "cell_type": "markdown",
   "id": "e93aabc7-87ad-4e95-920b-8510277c2ce0",
   "metadata": {},
   "source": [
    "## 2. Предобработка данных.<a id='section_id_2'></a>"
   ]
  },
  {
   "cell_type": "markdown",
   "id": "0f820685-9b3d-48b8-bc6e-1f48f889bea3",
   "metadata": {},
   "source": [
    "### 2.1. Работа с типом данных."
   ]
  },
  {
   "cell_type": "code",
   "execution_count": 127,
   "id": "1ea60603-797c-4e28-baa2-449232d38385",
   "metadata": {},
   "outputs": [],
   "source": [
    "# Изменим тип данных `service_date` на datetime\n",
    "data['service_date'] = pd.to_datetime(data['service_date'])"
   ]
  },
  {
   "cell_type": "markdown",
   "id": "59c52c20-02bd-43ff-87e2-88a64708c4af",
   "metadata": {},
   "source": [
    "### 2.2. Работа с пропусками."
   ]
  },
  {
   "cell_type": "code",
   "execution_count": 128,
   "id": "5ccb6be6-d61b-4c7a-b41a-e155b0fe03da",
   "metadata": {},
   "outputs": [
    {
     "data": {
      "text/plain": [
       "record_id               0.000000\n",
       "service_date            0.000000\n",
       "service_name            0.000000\n",
       "service_amount          0.000000\n",
       "service_number          0.000000\n",
       "insured                 0.000000\n",
       "sex_id                  0.000246\n",
       "age_for_service_date    0.000000\n",
       "dtype: float64"
      ]
     },
     "execution_count": 128,
     "metadata": {},
     "output_type": "execute_result"
    }
   ],
   "source": [
    "data.isna().mean()"
   ]
  },
  {
   "cell_type": "code",
   "execution_count": 129,
   "id": "845fa613-c178-4d7c-b93d-f6eb0f7df074",
   "metadata": {},
   "outputs": [
    {
     "name": "stdout",
     "output_type": "stream",
     "text": [
      "Процент пропусков в графе пол пациента: 0.025 %\n"
     ]
    }
   ],
   "source": [
    "print('Процент пропусков в графе пол пациента:',\n",
    "      round((data['sex_id'].isna().sum()/data['sex_id'].count())*100, 3), '%')"
   ]
  },
  {
   "cell_type": "markdown",
   "id": "d6edaaa9-490b-47df-860f-c33fd574ce06",
   "metadata": {},
   "source": [
    "Мы имеем пропуски только в одной категории данных - пол клиентов. Малость процента пропусков позволяет оставить их нетронутыми."
   ]
  },
  {
   "cell_type": "markdown",
   "id": "66ea2215-46f3-4c13-9d51-8278771e0e5c",
   "metadata": {},
   "source": [
    "### 2.3. Работа с дубликатами."
   ]
  },
  {
   "cell_type": "code",
   "execution_count": 130,
   "id": "ab3bccd9-4461-4eb8-8d8a-4c0852167926",
   "metadata": {},
   "outputs": [
    {
     "data": {
      "text/plain": [
       "0"
      ]
     },
     "execution_count": 130,
     "metadata": {},
     "output_type": "execute_result"
    }
   ],
   "source": [
    "# Cчитаем количество дубликатов в данных\n",
    "data.duplicated().sum()"
   ]
  },
  {
   "cell_type": "markdown",
   "id": "fe4b889b-aa7e-4520-8d5d-1aac56da418f",
   "metadata": {},
   "source": [
    "Проверим условие: число `record_id` должно быть равно размеру таблицы."
   ]
  },
  {
   "cell_type": "code",
   "execution_count": 131,
   "id": "5977487e-e258-42b2-9144-fb59d1cea8d5",
   "metadata": {},
   "outputs": [
    {
     "name": "stdout",
     "output_type": "stream",
     "text": [
      "Количество уникальных значений record_id: 85369\n",
      "Размер датафрейма: 85369\n"
     ]
    }
   ],
   "source": [
    "print('Количество уникальных значений record_id:', data['record_id'].nunique())\n",
    "print('Размер датафрейма:', data.shape[0])"
   ]
  },
  {
   "cell_type": "markdown",
   "id": "83f39f28-ed19-4cf9-b5e9-63cc8fdd67c8",
   "metadata": {},
   "source": [
    "### 2.4. Работа с аномальными значениями."
   ]
  },
  {
   "cell_type": "markdown",
   "id": "0df51275-8d36-41ee-87c5-7b3af75a3491",
   "metadata": {},
   "source": [
    "#### **`service_number` - количество услуг**"
   ]
  },
  {
   "cell_type": "code",
   "execution_count": 132,
   "id": "98f177d7-c998-4500-bb55-f85c5496a5b8",
   "metadata": {},
   "outputs": [
    {
     "data": {
      "text/plain": [
       "array([ 1,  2,  3,  4, 12,  5, 11, 13,  7,  6, 16, 15, 14])"
      ]
     },
     "execution_count": 132,
     "metadata": {},
     "output_type": "execute_result"
    }
   ],
   "source": [
    "# вывод уникальных значений service_number\n",
    "data['service_number'].unique()"
   ]
  },
  {
   "cell_type": "markdown",
   "id": "a5da98a5-a742-454b-9953-10b9fe21d43e",
   "metadata": {},
   "source": [
    "Есть большие значения, посмотрим на них в таблице."
   ]
  },
  {
   "cell_type": "code",
   "execution_count": 133,
   "id": "8ec759f5-89ac-4d27-b74d-64cc8cc15095",
   "metadata": {},
   "outputs": [
    {
     "data": {
      "text/plain": [
       "36313    Постановка кожных аллергопроб (за 1 единицу)\n",
       "37567    Постановка кожных аллергопроб (за 1 единицу)\n",
       "48871    Постановка кожных аллергопроб (за 1 единицу)\n",
       "73042    Постановка кожных аллергопроб (за 1 единицу)\n",
       "83447    Постановка кожных аллергопроб (за 1 единицу)\n",
       "Name: service_name, dtype: object"
      ]
     },
     "execution_count": 133,
     "metadata": {},
     "output_type": "execute_result"
    }
   ],
   "source": [
    "# вывод значений service_number более 13\n",
    "data[data['service_number'] > 13]['service_name']"
   ]
  },
  {
   "cell_type": "markdown",
   "id": "8f906fd7-5d72-4fb8-a0b8-96a1878eea86",
   "metadata": {},
   "source": [
    "Постановка кожных аллергопроб требует большого количества едениц, так как существует много аллергенов. Аномалий не обнаружено."
   ]
  },
  {
   "cell_type": "markdown",
   "id": "319c6dfa-510e-4c93-b4b3-9ab136b0fa7c",
   "metadata": {},
   "source": [
    "#### **`age_for_service_date` - возраст пациентов**"
   ]
  },
  {
   "cell_type": "code",
   "execution_count": 134,
   "id": "4ef6cf75-4fbc-4706-8531-3bc922c52b6a",
   "metadata": {},
   "outputs": [
    {
     "data": {
      "text/plain": [
       "count    85369.000000\n",
       "mean        33.851691\n",
       "std         12.144646\n",
       "min          0.000000\n",
       "25%         27.000000\n",
       "50%         34.000000\n",
       "75%         41.000000\n",
       "max         83.000000\n",
       "Name: age_for_service_date, dtype: float64"
      ]
     },
     "execution_count": 134,
     "metadata": {},
     "output_type": "execute_result"
    },
    {
     "data": {
      "image/png": "[encoded data removed]",
      "text/plain": [
       "<Figure size 1700x200 with 1 Axes>"
      ]
     },
     "metadata": {},
     "output_type": "display_data"
    }
   ],
   "source": [
    "# задаём размер диаграммы\n",
    "fig, ax = plt.subplots(figsize = (17,2))\n",
    "\n",
    "# построение\n",
    "ax = data[['age_for_service_date']].boxplot(vert = False, ax =ax)\n",
    "\n",
    "# заголовок и ось\n",
    "ax.set_title('Диаграмма размаха значений возраста пациентов')\n",
    "ax.set_xlim(-3, 100)\n",
    "\n",
    "# статистические характеристики возраста\n",
    "data['age_for_service_date'].describe()"
   ]
  },
  {
   "cell_type": "code",
   "execution_count": 135,
   "id": "9679d0fd-a8c3-45c4-9df1-76b5199670fc",
   "metadata": {},
   "outputs": [
    {
     "name": "stdout",
     "output_type": "stream",
     "text": [
      "Количество младенцев: 402\n",
      "Количество детей от года до 10 лет: 4635\n",
      "Количество пожилых людей: 1604\n"
     ]
    }
   ],
   "source": [
    "print('Количество младенцев:', len(data[data['age_for_service_date'] == 0]))\n",
    "print('Количество детей от года до 10 лет:', len(data.query('age_for_service_date >= 1 and age_for_service_date < 10')))\n",
    "print('Количество пожилых людей:', len(data[data['age_for_service_date'] > 60]))"
   ]
  },
  {
   "cell_type": "markdown",
   "id": "08e6c1ed-c486-480a-bc6d-e8f86ec6af48",
   "metadata": {},
   "source": [
    "Медиана возраста - 34 года, среднее - 33,8. В датафрейме есть как младенцы, так и пожилые люди старше 70 лет."
   ]
  },
  {
   "cell_type": "markdown",
   "id": "35a14f58-e9c2-4b2d-aca6-ce55d41c8116",
   "metadata": {},
   "source": [
    "#### **`service_amount` - стоимость услуги**"
   ]
  },
  {
   "cell_type": "code",
   "execution_count": 136,
   "id": "cf3b2db6-8e3d-4483-83bb-656961ac2dd2",
   "metadata": {},
   "outputs": [
    {
     "data": {
      "text/plain": [
       "count    85369.000000\n",
       "mean      1166.094636\n",
       "std        799.062660\n",
       "min        147.000000\n",
       "25%        550.000000\n",
       "50%       1155.000000\n",
       "75%       1530.000000\n",
       "max      26999.000000\n",
       "Name: service_amount, dtype: float64"
      ]
     },
     "execution_count": 136,
     "metadata": {},
     "output_type": "execute_result"
    },
    {
     "data": {
      "image/png": "[encoded data removed]",
      "text/plain": [
       "<Figure size 1700x200 with 1 Axes>"
      ]
     },
     "metadata": {},
     "output_type": "display_data"
    }
   ],
   "source": [
    "# задаём размер диаграммы\n",
    "fig, ax = plt.subplots(figsize = (17,2))\n",
    "\n",
    "# построение\n",
    "ax = data[['service_amount']].boxplot(vert = False, ax =ax)\n",
    "\n",
    "# заголовок и ось\n",
    "ax.set_title('Диаграмма размаха значений цены услуги')\n",
    "ax.set_xlim(0, 28000)\n",
    "\n",
    "# статистические характеристики стоисости услуг\n",
    "data['service_amount'].describe()"
   ]
  },
  {
   "cell_type": "code",
   "execution_count": 137,
   "id": "2150fbe2-1a7d-4bfd-9de8-2acd4590ba0b",
   "metadata": {},
   "outputs": [
    {
     "data": {
      "text/html": [
       "<div>\n",
       "<style scoped>\n",
       "    .dataframe tbody tr th:only-of-type {\n",
       "        vertical-align: middle;\n",
       "    }\n",
       "\n",
       "    .dataframe tbody tr th {\n",
       "        vertical-align: top;\n",
       "    }\n",
       "\n",
       "    .dataframe thead th {\n",
       "        text-align: right;\n",
       "    }\n",
       "</style>\n",
       "<table border=\"1\" class=\"dataframe\">\n",
       "  <thead>\n",
       "    <tr style=\"text-align: right;\">\n",
       "      <th></th>\n",
       "      <th>record_id</th>\n",
       "      <th>service_date</th>\n",
       "      <th>service_name</th>\n",
       "      <th>service_amount</th>\n",
       "      <th>service_number</th>\n",
       "      <th>insured</th>\n",
       "      <th>sex_id</th>\n",
       "      <th>age_for_service_date</th>\n",
       "    </tr>\n",
       "  </thead>\n",
       "  <tbody>\n",
       "    <tr>\n",
       "      <th>15588</th>\n",
       "      <td>30961493203</td>\n",
       "      <td>2021-06-17</td>\n",
       "      <td>МРТ брюшной полости и забрюшинного пространств...</td>\n",
       "      <td>17325</td>\n",
       "      <td>1</td>\n",
       "      <td>634755</td>\n",
       "      <td>1.0</td>\n",
       "      <td>41</td>\n",
       "    </tr>\n",
       "    <tr>\n",
       "      <th>18519</th>\n",
       "      <td>30961787103</td>\n",
       "      <td>2021-06-24</td>\n",
       "      <td>гистерорезектоскопия при полипах , РДВ</td>\n",
       "      <td>26999</td>\n",
       "      <td>1</td>\n",
       "      <td>362928</td>\n",
       "      <td>2.0</td>\n",
       "      <td>51</td>\n",
       "    </tr>\n",
       "    <tr>\n",
       "      <th>23794</th>\n",
       "      <td>31249334503</td>\n",
       "      <td>2021-08-20</td>\n",
       "      <td>МРТ головного мозга и гипофиза с контрастирова...</td>\n",
       "      <td>15225</td>\n",
       "      <td>1</td>\n",
       "      <td>544627</td>\n",
       "      <td>2.0</td>\n",
       "      <td>34</td>\n",
       "    </tr>\n",
       "  </tbody>\n",
       "</table>\n",
       "</div>"
      ],
      "text/plain": [
       "         record_id service_date  \\\n",
       "15588  30961493203   2021-06-17   \n",
       "18519  30961787103   2021-06-24   \n",
       "23794  31249334503   2021-08-20   \n",
       "\n",
       "                                            service_name  service_amount  \\\n",
       "15588  МРТ брюшной полости и забрюшинного пространств...           17325   \n",
       "18519             гистерорезектоскопия при полипах , РДВ           26999   \n",
       "23794  МРТ головного мозга и гипофиза с контрастирова...           15225   \n",
       "\n",
       "       service_number  insured  sex_id  age_for_service_date  \n",
       "15588               1   634755     1.0                    41  \n",
       "18519               1   362928     2.0                    51  \n",
       "23794               1   544627     2.0                    34  "
      ]
     },
     "execution_count": 137,
     "metadata": {},
     "output_type": "execute_result"
    }
   ],
   "source": [
    "# Посмотрим на дорогостоящие услуги\n",
    "data[data['service_amount'] > 15000]"
   ]
  },
  {
   "cell_type": "code",
   "execution_count": 138,
   "id": "0170075d-9d45-4daa-bb93-5f49ee6bb72a",
   "metadata": {},
   "outputs": [
    {
     "data": {
      "image/png": "[encoded data removed]",
      "text/plain": [
       "<Figure size 1700x200 with 1 Axes>"
      ]
     },
     "metadata": {},
     "output_type": "display_data"
    }
   ],
   "source": [
    "# Приблизим диаграмму размаха\n",
    "fig, ax = plt.subplots(figsize = (17,2))\n",
    "ax = data[['service_amount']].boxplot(vert = False, ax =ax)\n",
    "ax.set_title('Диаграмма размаха значений цены услуги')\n",
    "ax.set_xlim(0, 6000);"
   ]
  },
  {
   "cell_type": "code",
   "execution_count": 139,
   "id": "d76187ec-4c41-45d3-af39-8aa29c1538cf",
   "metadata": {},
   "outputs": [
    {
     "name": "stdout",
     "output_type": "stream",
     "text": [
      "Количество строк таблицы с суммой чека более 3.000 руб.: 2720\n",
      "Процент 3.19 %\n"
     ]
    }
   ],
   "source": [
    "# Посчитаем количество и процент услуг дороже 3.000 рублей\n",
    "print('Количество строк таблицы с суммой чека более 3.000 руб.:', len(data[data['service_amount'] > 3000]))\n",
    "print('Процент', round(len(data[data['service_amount'] > 3000])/data.shape[0]*100, 2), '%')"
   ]
  },
  {
   "cell_type": "markdown",
   "id": "a4532943-988a-4078-b329-5d8529adcda9",
   "metadata": {},
   "source": [
    "Не будем удалять большие значения чеков, но учтём это в анализе и при необходимости будем строить дополнительные графики с чеками до 3.000 руб."
   ]
  },
  {
   "cell_type": "markdown",
   "id": "af42afbb-391d-4355-b2a9-634a662f2a75",
   "metadata": {},
   "source": [
    "### 2.5. Добавление столбцов года и месяца обслуживания"
   ]
  },
  {
   "cell_type": "code",
   "execution_count": 140,
   "id": "b98ee545-0d4b-4291-ab11-b9313123e29b",
   "metadata": {},
   "outputs": [],
   "source": [
    "# добавляем столбец года\n",
    "data['year'] = data['service_date'].dt.year"
   ]
  },
  {
   "cell_type": "code",
   "execution_count": 141,
   "id": "accfd1a0-e7c5-4f7e-866d-1fe1f4c706c1",
   "metadata": {},
   "outputs": [],
   "source": [
    "# добавляем столбец месяца\n",
    "data['month'] = pd.DatetimeIndex(data['service_date']).month"
   ]
  },
  {
   "cell_type": "markdown",
   "id": "f885fee7-b2a0-412b-a448-444d9cfe3d46",
   "metadata": {},
   "source": [
    "### 2.6. Разделение датафрейма на 2 по году"
   ]
  },
  {
   "cell_type": "markdown",
   "id": "b9c8d237-a140-4a55-9ebe-5176134ff8cd",
   "metadata": {},
   "source": [
    "Для удобства работы создадим 2 датафрейма data_2021 и data_2022, которые будут хванить данные за соответствующие года."
   ]
  },
  {
   "cell_type": "code",
   "execution_count": 142,
   "id": "6417d288-0993-4794-8424-67f47bd710a2",
   "metadata": {},
   "outputs": [
    {
     "name": "stdout",
     "output_type": "stream",
     "text": [
      "Размер датафрейма 2021: 44392\n",
      "Размер датафрейма 2022: 40977\n",
      "Размер общего датафрейма: 85369\n",
      "Минимальная дата приёма: 2021-01-03 00:00:00\n",
      "Максимальная дата приёма: 2022-08-31 00:00:00\n"
     ]
    }
   ],
   "source": [
    "# вводим два новых датафрейма по году\n",
    "data_2021 = data[data['year'] == 2021]\n",
    "data_2022 = data[data['year'] == 2022]\n",
    "\n",
    "# описание размеров датафреймов\n",
    "print('Размер датафрейма 2021:', len(data_2021))\n",
    "print('Размер датафрейма 2022:', len(data_2022))\n",
    "print('Размер общего датафрейма:', len(data))\n",
    "\n",
    "# определение минимальной и максимальной даты приёма\n",
    "print('Минимальная дата приёма:', data['service_date'].min())\n",
    "print('Максимальная дата приёма:', data['service_date'].max())"
   ]
  },
  {
   "cell_type": "markdown",
   "id": "c1d60634-564d-43b4-8983-7757856eab56",
   "metadata": {},
   "source": [
    "За 2021 год мы имеет 44.392 строк таблицы и 12 месяцев. За 2022 год - 40.997 строк таблицы и 8 месяцев. Различие в количестве месяцев может дать значительный вклад в анализ, поэтому в исследовательском анализе ограничим датафрейм 2021 года до 8 месяцев."
   ]
  },
  {
   "cell_type": "markdown",
   "id": "a20a8a23-f316-4ad1-b636-63bed2720823",
   "metadata": {},
   "source": [
    "<div style=\"border:solid blue 2px; padding: 20px\">\n",
    "    \n",
    "**Вывод по пункту.**</br>\n",
    "* Тип данных `service_date` изменён с object на datetime.\n",
    "* Процент пропуков в категории данных `sex_id` - 0.025%.\n",
    "* Дубликатов в данных не обраружено.\n",
    "* Количество уникальных значений `record_id` равно размеру таблицы.\n",
    "* Минимальное количество `service_number` - 1, максимальное - 15. Большое количество услуг на пациента наблюдается в процедурах на постановку кожных алергопроб.\n",
    "* Минимальный возраст пациентов - младенцы, максимальный - 83 года. Медиана возраста 34 года, среднее - 33,8 лет.\n",
    "* Минимальный чек пациента - 147 руб., максимальный - 26.999 руб. Процедуры в большим чеком приходятся на МРТ анализ различных областей. Основная часть чеков лежит в пределах 3.000 руб.\n",
    "* В датафрейм добавлены столбцы года и месяца предоставления услуги.\n",
    "* Введено 2 датафрейма по году оказания услуги."
   ]
  },
  {
   "cell_type": "markdown",
   "id": "8fce3f1c-a4b3-4bca-a530-5c7497f122d6",
   "metadata": {},
   "source": [
    "## 3. Исследовательский анализ данных.<a id='section_id_3'></a>"
   ]
  },
  {
   "cell_type": "markdown",
   "id": "130041d2-5e47-47a2-b141-d1c789d25837",
   "metadata": {},
   "source": [
    "### 3.1. Анализ посещений."
   ]
  },
  {
   "cell_type": "markdown",
   "id": "e84cadeb-85a4-452f-8fad-5941ad623adb",
   "metadata": {},
   "source": [
    "#### Количество записей в таблице по дням"
   ]
  },
  {
   "cell_type": "code",
   "execution_count": 143,
   "id": "cac8dd38-d3a6-49ca-a9c6-57247f398184",
   "metadata": {},
   "outputs": [
    {
     "data": {
      "image/png": "[encoded data removed]",
      "text/plain": [
       "<Figure size 1500x400 with 1 Axes>"
      ]
     },
     "metadata": {},
     "output_type": "display_data"
    }
   ],
   "source": [
    "# задаём размер\n",
    "plt.figure(figsize=(15, 4))\n",
    "\n",
    "# построение\n",
    "sns.histplot(data=data, x='service_date', palette =\"coolwarm\", hue='year', stat='density', common_norm=False, \n",
    "             alpha=.35, kde=True)\n",
    "\n",
    "# заголовок и оси\n",
    "plt.title('Гистограмма количества записей по дате')\n",
    "plt.xlabel('Дата')\n",
    "plt.ylabel('Плотность распределения');"
   ]
  },
  {
   "cell_type": "markdown",
   "id": "5da60e52-2deb-4ee6-b9f7-5af419fba5ea",
   "metadata": {},
   "source": [
    "Гистограмма показывает число записей посещений в день. По графику видно, что в 2022 году резко возросло количество посещений. При наличии полных данных за 2022 год картина всех признаков была бы иная, поэтому целесообразнее ограничить данные 2021 года до августа и продолжить анализ на новых данных."
   ]
  },
  {
   "cell_type": "markdown",
   "id": "a2a987fe-450a-49e2-9d4a-4c7cdbfaeb36",
   "metadata": {},
   "source": [
    "#### Количества уникальных посетителей по дням"
   ]
  },
  {
   "cell_type": "code",
   "execution_count": 144,
   "id": "081dfe70-dadb-4f31-8d34-eaf88eb1bc56",
   "metadata": {},
   "outputs": [
    {
     "data": {
      "image/png": "[encoded data removed]",
      "text/plain": [
       "<Figure size 2000x500 with 1 Axes>"
      ]
     },
     "metadata": {},
     "output_type": "display_data"
    }
   ],
   "source": [
    "# гистограмма количества уникальных посетителей по дням\n",
    "# Создание нового датафрейма с уникальными датами и количеством уникальных посетителей\n",
    "df_unique = data.groupby(data['service_date'].dt.date)['insured'].nunique().reset_index()\n",
    "\n",
    "# задаём размер диаграммы\n",
    "plt.figure(figsize=(20, 5))\n",
    "\n",
    "# построение\n",
    "sns.barplot(data=df_unique, x='service_date', y='insured', palette =\"coolwarm\")\n",
    "\n",
    "# заголовок и оси\n",
    "plt.title('Гистограмма количества уникальных посетителей по дням')\n",
    "plt.xlabel('Дата')\n",
    "plt.ylabel('Количество посетителей')\n",
    "\n",
    "# убираем значения по оси х\n",
    "plt.xticks([]);"
   ]
  },
  {
   "cell_type": "markdown",
   "id": "58c49046-f0a3-43e0-a791-9b4f60c12935",
   "metadata": {},
   "source": [
    "Распределение повторяет вид предыдущего. По графику видно, что в целом посетителей в 2022 году стало больше."
   ]
  },
  {
   "cell_type": "markdown",
   "id": "c9a530bd-cb18-4306-ae4f-db0249a430af",
   "metadata": {},
   "source": [
    "#### Дневной чек клиники"
   ]
  },
  {
   "cell_type": "code",
   "execution_count": 145,
   "id": "309b5f94-602c-4a10-b361-854a6a267753",
   "metadata": {},
   "outputs": [
    {
     "data": {
      "image/png": "[encoded data removed]",
      "text/plain": [
       "<Figure size 2000x500 with 1 Axes>"
      ]
     },
     "metadata": {},
     "output_type": "display_data"
    }
   ],
   "source": [
    "# гистограмма количества уникальных посетителей по дням\n",
    "# Создание нового датафрейма с уникальными датами и количеством уникальных посетителей\n",
    "df_average_bill = data.groupby('service_date')['service_amount'].sum().reset_index()\n",
    "\n",
    "# задаём размер диаграммы\n",
    "plt.figure(figsize=(20, 5))\n",
    "\n",
    "# построение\n",
    "sns.barplot(data=df_average_bill, x='service_date', y='service_amount', palette =\"coolwarm\")\n",
    "\n",
    "# заголовок и оси\n",
    "plt.title('Гистограмма чека по дням')\n",
    "plt.xlabel('Дата')\n",
    "plt.ylabel('Чек в день')\n",
    "\n",
    "# убираем значения по оси х\n",
    "plt.xticks([]);"
   ]
  },
  {
   "cell_type": "markdown",
   "id": "e259b5ed-185c-4de7-92ee-d8e8098dd734",
   "metadata": {},
   "source": [
    "График показывает идентичную законометрость графику по количеству клиентов в день. То есть дневной чек напрямую зависит от количества клиентов в день."
   ]
  },
  {
   "cell_type": "code",
   "execution_count": 146,
   "id": "198d0714-c727-46fa-a423-b759e03035bc",
   "metadata": {},
   "outputs": [],
   "source": [
    "# создаём датафрейм который обрежет 2021 год до сентября\n",
    "data_2021_8 = data_2021[data_2021['month'] < 9]"
   ]
  },
  {
   "cell_type": "markdown",
   "id": "7442ac85-4159-4d7c-8b3e-d16b033dd205",
   "metadata": {},
   "source": [
    "<div style=\"border:solid blue 2px; padding: 20px\">\n",
    "    \n",
    "**Вывод по пункту.**</br>\n",
    "* Гистограмма количества записей в день показывает значительный рост записей в 2022 году.\n",
    "* Аналогичные результаты показывает гистограмма количества посетителей в день.\n",
    "* Выявлено, что суммарный чек в день напрямую зависит от количества уникальных клиентов в день.\n",
    "* Принято решение ограничить данные 2021 года до 8 месяцев. Далее мы будем сравнивать 8 месяцев 2021 года и 8 месяцев 2022 года."
   ]
  },
  {
   "cell_type": "markdown",
   "id": "9f964ace-666f-4e45-91bc-f5a2920e759e",
   "metadata": {},
   "source": [
    "### 3.2. Анализ по возрасту."
   ]
  },
  {
   "cell_type": "markdown",
   "id": "a71c2691-ba5f-4c58-8ba7-ded17e21c11c",
   "metadata": {},
   "source": [
    "#### Распределение возрастов пациентов"
   ]
  },
  {
   "cell_type": "code",
   "execution_count": 147,
   "id": "bcad1b59-d773-4674-bdde-de050409049b",
   "metadata": {},
   "outputs": [
    {
     "data": {
      "image/png": "[encoded data removed]",
      "text/plain": [
       "<Figure size 2000x600 with 1 Axes>"
      ]
     },
     "metadata": {},
     "output_type": "display_data"
    }
   ],
   "source": [
    "# задаём размер\n",
    "plt.figure(figsize=(20, 6))\n",
    "\n",
    "# построение\n",
    "sns.countplot(data=data.query('year == 2021 and month < 8 or year == 2022'), x='age_for_service_date', palette =\"coolwarm\", hue='year')\n",
    "\n",
    "# заголовок и оси\n",
    "plt.title('Диаграмма возраста клиентов в разрезе 2021 и 2022 года')\n",
    "plt.xlabel('Возраст')\n",
    "plt.ylabel('Количество клиентов');"
   ]
  },
  {
   "cell_type": "markdown",
   "id": "5e0c5b43-feff-45d1-9d0b-31389fcc6394",
   "metadata": {},
   "source": [
    "По диаграмме видно, что основной сегмент датафрейма клиенты возраста 23-45 лет. В данных небольшое количество детей возраста до 10 лет и практически нет подростков. Люди пожилого возраста - также немногочисленная группа. В разрезе 2021 и 2022 года поведение примерно одинаковое. В 2022 году стало больше посетителей практически по всем возрастам."
   ]
  },
  {
   "cell_type": "markdown",
   "id": "da561cfa-8062-43f8-b9d1-7cf5b7afe254",
   "metadata": {},
   "source": [
    "#### Распределение суммы выплат по возрастным группам"
   ]
  },
  {
   "cell_type": "markdown",
   "id": "1803b5c2-7fc5-442f-8e81-423de948372d",
   "metadata": {},
   "source": [
    "Добавим в датафрейм data столбец age_type, в котором будет храниться категория возраста клиента."
   ]
  },
  {
   "cell_type": "code",
   "execution_count": 148,
   "id": "cfd02e20-0775-4c61-b143-7076c7b8f0c7",
   "metadata": {},
   "outputs": [],
   "source": [
    "# функция добавляет новый столбец age_type (категория возраста)\n",
    "def age(each):\n",
    "    try:\n",
    "        if each['age_for_service_date'] < 10:\n",
    "            return 'дети'\n",
    "        elif each['age_for_service_date'] > 9 and each['age_for_service_date'] <= 22:\n",
    "            return 'подростки'\n",
    "        elif each['age_for_service_date'] > 22 and each['age_for_service_date'] <= 34:\n",
    "            return 'молодые'\n",
    "        elif each['age_for_service_date'] > 34 and each['age_for_service_date'] <= 44:\n",
    "            return 'взрослые'\n",
    "        elif each['age_for_service_date'] > 44 and each['age_for_service_date'] <= 56:\n",
    "            return 'зрелые'\n",
    "        elif each['age_for_service_date'] > 56 and each['age_for_service_date'] <= 83:\n",
    "            return 'пожилые'\n",
    "        else:\n",
    "            return 'не определено'\n",
    "    except:\n",
    "        pass\n",
    "            \n",
    "data['age_type'] = data.apply(age, axis = 1)"
   ]
  },
  {
   "cell_type": "code",
   "execution_count": 149,
   "id": "743cf536-22e7-417e-9cd7-d15733c641e7",
   "metadata": {},
   "outputs": [
    {
     "data": {
      "text/html": [
       "<div>\n",
       "<style scoped>\n",
       "    .dataframe tbody tr th:only-of-type {\n",
       "        vertical-align: middle;\n",
       "    }\n",
       "\n",
       "    .dataframe tbody tr th {\n",
       "        vertical-align: top;\n",
       "    }\n",
       "\n",
       "    .dataframe thead th {\n",
       "        text-align: right;\n",
       "    }\n",
       "</style>\n",
       "<table border=\"1\" class=\"dataframe\">\n",
       "  <thead>\n",
       "    <tr style=\"text-align: right;\">\n",
       "      <th></th>\n",
       "      <th>age_type</th>\n",
       "      <th>service_amount</th>\n",
       "    </tr>\n",
       "  </thead>\n",
       "  <tbody>\n",
       "    <tr>\n",
       "      <th>0</th>\n",
       "      <td>взрослые</td>\n",
       "      <td>8983215</td>\n",
       "    </tr>\n",
       "    <tr>\n",
       "      <th>1</th>\n",
       "      <td>дети</td>\n",
       "      <td>2006483</td>\n",
       "    </tr>\n",
       "    <tr>\n",
       "      <th>2</th>\n",
       "      <td>зрелые</td>\n",
       "      <td>3859826</td>\n",
       "    </tr>\n",
       "    <tr>\n",
       "      <th>3</th>\n",
       "      <td>молодые</td>\n",
       "      <td>12598959</td>\n",
       "    </tr>\n",
       "    <tr>\n",
       "      <th>4</th>\n",
       "      <td>подростки</td>\n",
       "      <td>1149366</td>\n",
       "    </tr>\n",
       "    <tr>\n",
       "      <th>5</th>\n",
       "      <td>пожилые</td>\n",
       "      <td>1359703</td>\n",
       "    </tr>\n",
       "  </tbody>\n",
       "</table>\n",
       "</div>"
      ],
      "text/plain": [
       "    age_type  service_amount\n",
       "0   взрослые         8983215\n",
       "1       дети         2006483\n",
       "2     зрелые         3859826\n",
       "3    молодые        12598959\n",
       "4  подростки         1149366\n",
       "5    пожилые         1359703"
      ]
     },
     "execution_count": 149,
     "metadata": {},
     "output_type": "execute_result"
    }
   ],
   "source": [
    "# заново вводим датафреймы, чтобы у них был столбец age_type\n",
    "data_2021 = data[data['year'] == 2021]\n",
    "data_2022 = data[data['year'] == 2022]\n",
    "\n",
    "# аналогично для нового датафрейма 8 месяцев\n",
    "data_2021_8 = data_2021[data_2021['month'] < 9]\n",
    "\n",
    "# таблицы 2021/2022 распределения суммы всех выплат по возрастным группам \n",
    "data_amount_age_2021 = data_2021_8.groupby('age_type').agg({'service_amount':['sum']}).reset_index()\n",
    "data_amount_age_2021.columns = ['age_type', 'service_amount']\n",
    "data_amount_age_2022 = data_2022.groupby('age_type').agg({'service_amount':['sum']}).reset_index()\n",
    "data_amount_age_2022.columns = ['age_type', 'service_amount']\n",
    "\n",
    "# вывод таблицы 2021\n",
    "data_amount_age_2021"
   ]
  },
  {
   "cell_type": "code",
   "execution_count": 150,
   "id": "96a25e9d-7cbc-49d3-a718-e3ba82c797a4",
   "metadata": {},
   "outputs": [
    {
     "data": {
      "image/png": "[encoded data removed]",
      "text/plain": [
       "<Figure size 700x400 with 1 Axes>"
      ]
     },
     "metadata": {},
     "output_type": "display_data"
    }
   ],
   "source": [
    "# график суммы выплат по возрастным группам\n",
    "plt.figure(figsize=(7, 4))\n",
    "ax = sns.barplot(y='age_type',x='service_amount',data = data_amount_age_2022.sort_values(by='service_amount'), \n",
    "            color='blue', alpha=0.5)\n",
    "ax = sns.barplot(y='age_type',x='service_amount',data = data_amount_age_2021.sort_values(by='service_amount'), \n",
    "            color='red', alpha=0.5)\n",
    "\n",
    "# Создаем квадраты, представляющие каждый график в легенде\n",
    "legend_patches = [Patch(color='red', alpha=0.5, label='2021'), Patch(color='blue', alpha=0.5, label='2022')]\n",
    "\n",
    "# Добавление легенды\n",
    "plt.legend(handles=legend_patches)\n",
    "\n",
    "# Заголовки и подписи осей\n",
    "plt.title('Сумма выплат по возрастным группам в разрезе года')\n",
    "plt.xlabel('Сумма выплат')\n",
    "plt.ylabel('Категория возраста')\n",
    "plt.show() "
   ]
  },
  {
   "cell_type": "markdown",
   "id": "99d8e7de-fe30-4799-a77a-de3e688a1445",
   "metadata": {},
   "source": [
    "Данные за 2022 год показывают значительно более прибыльные результаты. Молодые (22-34 года) пациенты и взрослые (34-44 года) самые многочисленные (по диаграмме возрастов) и платёжеспособные категории клиентов."
   ]
  },
  {
   "cell_type": "markdown",
   "id": "a4f47fd3-964b-437f-85ac-395a88b98c09",
   "metadata": {},
   "source": [
    "#### Распределение количества услуг по возрастным группам"
   ]
  },
  {
   "cell_type": "code",
   "execution_count": 151,
   "id": "e0c125e2-56b2-4309-a2dc-db6d624b690c",
   "metadata": {},
   "outputs": [
    {
     "data": {
      "text/html": [
       "<div>\n",
       "<style scoped>\n",
       "    .dataframe tbody tr th:only-of-type {\n",
       "        vertical-align: middle;\n",
       "    }\n",
       "\n",
       "    .dataframe tbody tr th {\n",
       "        vertical-align: top;\n",
       "    }\n",
       "\n",
       "    .dataframe thead th {\n",
       "        text-align: right;\n",
       "    }\n",
       "</style>\n",
       "<table border=\"1\" class=\"dataframe\">\n",
       "  <thead>\n",
       "    <tr style=\"text-align: right;\">\n",
       "      <th></th>\n",
       "      <th>age_type</th>\n",
       "      <th>service_number</th>\n",
       "    </tr>\n",
       "  </thead>\n",
       "  <tbody>\n",
       "    <tr>\n",
       "      <th>0</th>\n",
       "      <td>взрослые</td>\n",
       "      <td>8134</td>\n",
       "    </tr>\n",
       "    <tr>\n",
       "      <th>1</th>\n",
       "      <td>дети</td>\n",
       "      <td>1763</td>\n",
       "    </tr>\n",
       "    <tr>\n",
       "      <th>2</th>\n",
       "      <td>зрелые</td>\n",
       "      <td>3516</td>\n",
       "    </tr>\n",
       "    <tr>\n",
       "      <th>3</th>\n",
       "      <td>молодые</td>\n",
       "      <td>11757</td>\n",
       "    </tr>\n",
       "    <tr>\n",
       "      <th>4</th>\n",
       "      <td>подростки</td>\n",
       "      <td>1084</td>\n",
       "    </tr>\n",
       "    <tr>\n",
       "      <th>5</th>\n",
       "      <td>пожилые</td>\n",
       "      <td>1150</td>\n",
       "    </tr>\n",
       "  </tbody>\n",
       "</table>\n",
       "</div>"
      ],
      "text/plain": [
       "    age_type  service_number\n",
       "0   взрослые            8134\n",
       "1       дети            1763\n",
       "2     зрелые            3516\n",
       "3    молодые           11757\n",
       "4  подростки            1084\n",
       "5    пожилые            1150"
      ]
     },
     "execution_count": 151,
     "metadata": {},
     "output_type": "execute_result"
    }
   ],
   "source": [
    "# таблицы 2021/2022 распределения количнства услуг по возрастным группам \n",
    "data_number_age_2021 = data_2021_8.groupby('age_type').agg({'service_number':['sum']}).reset_index()\n",
    "data_number_age_2021.columns = ['age_type', 'service_number']\n",
    "data_number_age_2022 = data_2022.groupby('age_type').agg({'service_number':['sum']}).reset_index()\n",
    "data_number_age_2022.columns = ['age_type', 'service_number']\n",
    "\n",
    "# вывод таблицы 2021\n",
    "data_number_age_2021"
   ]
  },
  {
   "cell_type": "code",
   "execution_count": 152,
   "id": "aacf851d-bb2e-4895-bcd1-9c034a69331a",
   "metadata": {},
   "outputs": [
    {
     "data": {
      "image/png": "[encoded data removed]",
      "text/plain": [
       "<Figure size 700x400 with 1 Axes>"
      ]
     },
     "metadata": {},
     "output_type": "display_data"
    }
   ],
   "source": [
    "# график суммы выплат по возрастным группам\n",
    "plt.figure(figsize=(7, 4))\n",
    "ax = sns.barplot(y='age_type',x='service_number',data = data_number_age_2022.sort_values(by='service_number'), \n",
    "            color='blue', alpha=0.5)\n",
    "ax = sns.barplot(y='age_type',x='service_number',data = data_number_age_2021.sort_values(by='service_number'), \n",
    "            color='red', alpha=0.5)\n",
    "\n",
    "# Создаем квадраты, представляющие каждый график в легенде\n",
    "legend_patches = [Patch(color='red', alpha=0.5, label='2021'), Patch(color='blue', alpha=0.5, label='2022')]\n",
    "\n",
    "# Добавление легенды\n",
    "plt.legend(handles=legend_patches)\n",
    "\n",
    "# Заголовки и подписи осей\n",
    "plt.title('Количество услуг по возрастным группам в разрезе года')\n",
    "plt.xlabel('Количество услуг')\n",
    "plt.ylabel('Категория возраста')\n",
    "plt.show() "
   ]
  },
  {
   "cell_type": "markdown",
   "id": "b62cc6db-aa0e-4cb4-9328-31760210bd82",
   "metadata": {},
   "source": [
    "Как и в предыдущем графике в распределении по количеству используемых услуг лидируют многочисленные группы молодых и взрослых. Наблюдается аналогичная зависимость 2022 года относительно 2021."
   ]
  },
  {
   "cell_type": "code",
   "execution_count": 160,
   "id": "9ef834c6-828c-4c20-aee5-9cf1d9ca1527",
   "metadata": {},
   "outputs": [
    {
     "name": "stdout",
     "output_type": "stream",
     "text": [
      "Количество молодых клиентов выросло на: 39.72 %\n",
      "Количество взрослых клиентов выросло на: 43.34 %\n",
      "Сумма выплат молодых клиентов увеличилась на: 39.33 %\n",
      "Сумма выплат взрослых клиентов увеличилась на: 45.05 %\n"
     ]
    }
   ],
   "source": [
    "print('Количество молодых клиентов выросло на:', \n",
    "      round((1-data_2021_8.query('age_type == \"молодые\"')['insured'].nunique()/ \\\n",
    "            data_2022.query('age_type == \"молодые\"')['insured'].nunique())*100, 2), '%')\n",
    "print('Количество взрослых клиентов выросло на:', \n",
    "      round((1-data_2021_8.query('age_type == \"взрослые\"')['insured'].nunique()/ \\\n",
    "            data_2022.query('age_type == \"взрослые\"')['insured'].nunique())*100, 2), '%')\n",
    "print('Сумма выплат молодых клиентов увеличилась на:', \n",
    "      round((1-data_2021_8.query('age_type == \"молодые\"')['service_amount'].sum()/ \\\n",
    "            data_2022.query('age_type == \"молодые\"')['service_amount'].sum())*100, 2), '%')\n",
    "print('Сумма выплат взрослых клиентов увеличилась на:',\n",
    "      round((1-data_2021_8.query('age_type == \"взрослые\"')['service_amount'].sum()/ \\\n",
    "            data_2022.query('age_type == \"взрослые\"')['service_amount'].sum())*100, 2), '%')"
   ]
  },
  {
   "cell_type": "markdown",
   "id": "46ced3f2-dc09-4756-92ca-a779a47c78a3",
   "metadata": {},
   "source": [
    "<div style=\"border:solid blue 2px; padding: 20px\">\n",
    "    \n",
    "**Вывод по пункту.**</br>\n",
    "* Диаграмма количества клиентов относительно возраста примерно повторяет нормальное распределение. В 2022 году наблюдается увеличение количества клиентов практически по всем возрастам.\n",
    "* Датафрейм категоризирован по взрастным группам. Клиенты, которым менее 10 лет - дети, 10-22 года - подростки, 23-34 - молодые, 35-44 взрослые, 45-56 - зрелые, 56-83 - пожилые. Группы клиентов молодые и взрослые оказались самыми многочисленными и выгодными посетителями клиники. 2022 год показывает рост по количеству каждой группы и по доходу от клиентов.\n",
    "* Увеличение дохода клиники по многочисленным категориям пропорционально увеличению количества настоящих групп."
   ]
  },
  {
   "cell_type": "markdown",
   "id": "7af451ca-b08f-4751-8976-4c0fd70933de",
   "metadata": {},
   "source": [
    "### 3.3. Анализ распределения услуг"
   ]
  },
  {
   "cell_type": "markdown",
   "id": "a2ad78d3-b589-470a-9bed-e1a64c85f767",
   "metadata": {},
   "source": [
    "#### Самые популярные услуги в 2021 и 2022 годах."
   ]
  },
  {
   "cell_type": "code",
   "execution_count": 35,
   "id": "95ea1fcc-c3c9-4c2c-b3dc-38e06ea4a1dc",
   "metadata": {},
   "outputs": [],
   "source": [
    "# группируем датафрейм по категориям услуг и ищем число встреч каждой категории, доход от услуги, количество услуг и среднюю стоимость\n",
    "data_service_name_2021 = data_2021_8.groupby(['service_name']).agg({'service_amount': ['count','sum'],\n",
    "                                                                               'service_number' : ['sum']}).reset_index()\n",
    "\n",
    "# изменяем наименования колонок, добавляем среднюю стоимость\n",
    "data_service_name_2021.columns = ['service_name', 'service_name_count', 'service_amount_sum', 'service_number_sum']\n",
    "data_service_name_2021['average_cost'] = data_service_name_2021['service_amount_sum']/data_service_name_2021['service_number_sum']\n",
    "data_service_name_2021['average_cost'] = round(data_service_name_2021['average_cost'], 2)\n",
    "\n",
    "# сортируем\n",
    "data_service_name_2021 = data_service_name_2021.sort_values(by='service_name_count', ascending=False)\n",
    "\n",
    "# аналогично для 2022\n",
    "data_service_name_2022 = data_2022.groupby(['service_name']).agg({'service_amount': ['count','sum'],\n",
    "                                                                               'service_number' : ['sum']}).reset_index()\n",
    "data_service_name_2022.columns = ['service_name', 'service_name_count', 'service_amount_sum', 'service_number_sum']\n",
    "data_service_name_2022['average_cost'] = data_service_name_2022['service_amount_sum']/data_service_name_2022['service_number_sum']\n",
    "data_service_name_2022['average_cost'] = round(data_service_name_2022['average_cost'], 2)\n",
    "data_service_name_2022 = data_service_name_2022.sort_values(by='service_name_count', ascending=False)"
   ]
  },
  {
   "cell_type": "code",
   "execution_count": 36,
   "id": "27d13200-1e54-4c75-830e-54adfb584803",
   "metadata": {},
   "outputs": [
    {
     "data": {
      "text/html": [
       "<div>\n",
       "<style scoped>\n",
       "    .dataframe tbody tr th:only-of-type {\n",
       "        vertical-align: middle;\n",
       "    }\n",
       "\n",
       "    .dataframe tbody tr th {\n",
       "        vertical-align: top;\n",
       "    }\n",
       "\n",
       "    .dataframe thead th {\n",
       "        text-align: right;\n",
       "    }\n",
       "</style>\n",
       "<table border=\"1\" class=\"dataframe\">\n",
       "  <thead>\n",
       "    <tr style=\"text-align: right;\">\n",
       "      <th></th>\n",
       "      <th>service_name</th>\n",
       "      <th>service_name_count</th>\n",
       "      <th>service_amount_sum</th>\n",
       "      <th>service_number_sum</th>\n",
       "      <th>average_cost</th>\n",
       "    </tr>\n",
       "  </thead>\n",
       "  <tbody>\n",
       "    <tr>\n",
       "      <th>398</th>\n",
       "      <td>Прием первичный</td>\n",
       "      <td>4478</td>\n",
       "      <td>6582945</td>\n",
       "      <td>4478</td>\n",
       "      <td>1470.06</td>\n",
       "    </tr>\n",
       "    <tr>\n",
       "      <th>399</th>\n",
       "      <td>Прием повторный</td>\n",
       "      <td>3295</td>\n",
       "      <td>4326335</td>\n",
       "      <td>3295</td>\n",
       "      <td>1313.00</td>\n",
       "    </tr>\n",
       "    <tr>\n",
       "      <th>124</th>\n",
       "      <td>Взятие крови из периферической вены</td>\n",
       "      <td>1297</td>\n",
       "      <td>206032</td>\n",
       "      <td>1304</td>\n",
       "      <td>158.00</td>\n",
       "    </tr>\n",
       "    <tr>\n",
       "      <th>321</th>\n",
       "      <td>Общий анализ крови (лейкоцитарная форм,, СОЭ)</td>\n",
       "      <td>995</td>\n",
       "      <td>689535</td>\n",
       "      <td>995</td>\n",
       "      <td>693.00</td>\n",
       "    </tr>\n",
       "    <tr>\n",
       "      <th>291</th>\n",
       "      <td>Магнитотерапия (1 сеанс)</td>\n",
       "      <td>806</td>\n",
       "      <td>838240</td>\n",
       "      <td>806</td>\n",
       "      <td>1040.00</td>\n",
       "    </tr>\n",
       "    <tr>\n",
       "      <th>322</th>\n",
       "      <td>Общий анализ мочи</td>\n",
       "      <td>491</td>\n",
       "      <td>211621</td>\n",
       "      <td>491</td>\n",
       "      <td>431.00</td>\n",
       "    </tr>\n",
       "    <tr>\n",
       "      <th>125</th>\n",
       "      <td>Взятие мазка</td>\n",
       "      <td>396</td>\n",
       "      <td>211476</td>\n",
       "      <td>621</td>\n",
       "      <td>340.54</td>\n",
       "    </tr>\n",
       "    <tr>\n",
       "      <th>149</th>\n",
       "      <td>Гинекологический мазок</td>\n",
       "      <td>376</td>\n",
       "      <td>197400</td>\n",
       "      <td>376</td>\n",
       "      <td>525.00</td>\n",
       "    </tr>\n",
       "    <tr>\n",
       "      <th>191</th>\n",
       "      <td>Интерференционные токи (1 сеанс) (4 поля)</td>\n",
       "      <td>366</td>\n",
       "      <td>380640</td>\n",
       "      <td>366</td>\n",
       "      <td>1040.00</td>\n",
       "    </tr>\n",
       "    <tr>\n",
       "      <th>262</th>\n",
       "      <td>Лазеротерапия (1 сеанс)</td>\n",
       "      <td>344</td>\n",
       "      <td>314416</td>\n",
       "      <td>344</td>\n",
       "      <td>914.00</td>\n",
       "    </tr>\n",
       "  </tbody>\n",
       "</table>\n",
       "</div>"
      ],
      "text/plain": [
       "                                      service_name  service_name_count  \\\n",
       "398                                Прием первичный                4478   \n",
       "399                                Прием повторный                3295   \n",
       "124            Взятие крови из периферической вены                1297   \n",
       "321  Общий анализ крови (лейкоцитарная форм,, СОЭ)                 995   \n",
       "291                       Магнитотерапия (1 сеанс)                 806   \n",
       "322                              Общий анализ мочи                 491   \n",
       "125                                   Взятие мазка                 396   \n",
       "149                         Гинекологический мазок                 376   \n",
       "191      Интерференционные токи (1 сеанс) (4 поля)                 366   \n",
       "262                        Лазеротерапия (1 сеанс)                 344   \n",
       "\n",
       "     service_amount_sum  service_number_sum  average_cost  \n",
       "398             6582945                4478       1470.06  \n",
       "399             4326335                3295       1313.00  \n",
       "124              206032                1304        158.00  \n",
       "321              689535                 995        693.00  \n",
       "291              838240                 806       1040.00  \n",
       "322              211621                 491        431.00  \n",
       "125              211476                 621        340.54  \n",
       "149              197400                 376        525.00  \n",
       "191              380640                 366       1040.00  \n",
       "262              314416                 344        914.00  "
      ]
     },
     "execution_count": 36,
     "metadata": {},
     "output_type": "execute_result"
    }
   ],
   "source": [
    "# топ 10 услуг 2021\n",
    "data_service_name_2021.head(10)"
   ]
  },
  {
   "cell_type": "code",
   "execution_count": 37,
   "id": "88284749-9b95-420a-8f07-7709eb80db7c",
   "metadata": {},
   "outputs": [
    {
     "data": {
      "text/html": [
       "<div>\n",
       "<style scoped>\n",
       "    .dataframe tbody tr th:only-of-type {\n",
       "        vertical-align: middle;\n",
       "    }\n",
       "\n",
       "    .dataframe tbody tr th {\n",
       "        vertical-align: top;\n",
       "    }\n",
       "\n",
       "    .dataframe thead th {\n",
       "        text-align: right;\n",
       "    }\n",
       "</style>\n",
       "<table border=\"1\" class=\"dataframe\">\n",
       "  <thead>\n",
       "    <tr style=\"text-align: right;\">\n",
       "      <th></th>\n",
       "      <th>service_name</th>\n",
       "      <th>service_name_count</th>\n",
       "      <th>service_amount_sum</th>\n",
       "      <th>service_number_sum</th>\n",
       "      <th>average_cost</th>\n",
       "    </tr>\n",
       "  </thead>\n",
       "  <tbody>\n",
       "    <tr>\n",
       "      <th>124</th>\n",
       "      <td>Взятие крови из периферической вены</td>\n",
       "      <td>2024</td>\n",
       "      <td>351628</td>\n",
       "      <td>2030</td>\n",
       "      <td>173.22</td>\n",
       "    </tr>\n",
       "    <tr>\n",
       "      <th>325</th>\n",
       "      <td>Общий анализ крови (лейкоцитарная форм,, СОЭ)</td>\n",
       "      <td>1517</td>\n",
       "      <td>1128850</td>\n",
       "      <td>1517</td>\n",
       "      <td>744.13</td>\n",
       "    </tr>\n",
       "    <tr>\n",
       "      <th>291</th>\n",
       "      <td>Магнитотерапия (1 сеанс)</td>\n",
       "      <td>1449</td>\n",
       "      <td>1588620</td>\n",
       "      <td>1449</td>\n",
       "      <td>1096.36</td>\n",
       "    </tr>\n",
       "    <tr>\n",
       "      <th>402</th>\n",
       "      <td>Прием гинеколога, повторный</td>\n",
       "      <td>964</td>\n",
       "      <td>1343760</td>\n",
       "      <td>964</td>\n",
       "      <td>1393.94</td>\n",
       "    </tr>\n",
       "    <tr>\n",
       "      <th>447</th>\n",
       "      <td>Прием трапевта, первичный</td>\n",
       "      <td>936</td>\n",
       "      <td>1452930</td>\n",
       "      <td>936</td>\n",
       "      <td>1552.28</td>\n",
       "    </tr>\n",
       "    <tr>\n",
       "      <th>125</th>\n",
       "      <td>Взятие мазка</td>\n",
       "      <td>897</td>\n",
       "      <td>452082</td>\n",
       "      <td>1230</td>\n",
       "      <td>367.55</td>\n",
       "    </tr>\n",
       "    <tr>\n",
       "      <th>421</th>\n",
       "      <td>Прием отоларинголога, первичный</td>\n",
       "      <td>721</td>\n",
       "      <td>1118820</td>\n",
       "      <td>721</td>\n",
       "      <td>1551.76</td>\n",
       "    </tr>\n",
       "    <tr>\n",
       "      <th>326</th>\n",
       "      <td>Общий анализ мочи</td>\n",
       "      <td>711</td>\n",
       "      <td>326295</td>\n",
       "      <td>711</td>\n",
       "      <td>458.92</td>\n",
       "    </tr>\n",
       "    <tr>\n",
       "      <th>414</th>\n",
       "      <td>Прием невролога, первичный</td>\n",
       "      <td>690</td>\n",
       "      <td>1072920</td>\n",
       "      <td>690</td>\n",
       "      <td>1554.96</td>\n",
       "    </tr>\n",
       "    <tr>\n",
       "      <th>271</th>\n",
       "      <td>Лазеротерапия (1 сеанс)</td>\n",
       "      <td>656</td>\n",
       "      <td>633870</td>\n",
       "      <td>656</td>\n",
       "      <td>966.27</td>\n",
       "    </tr>\n",
       "  </tbody>\n",
       "</table>\n",
       "</div>"
      ],
      "text/plain": [
       "                                      service_name  service_name_count  \\\n",
       "124            Взятие крови из периферической вены                2024   \n",
       "325  Общий анализ крови (лейкоцитарная форм,, СОЭ)                1517   \n",
       "291                       Магнитотерапия (1 сеанс)                1449   \n",
       "402                    Прием гинеколога, повторный                 964   \n",
       "447                      Прием трапевта, первичный                 936   \n",
       "125                                   Взятие мазка                 897   \n",
       "421                Прием отоларинголога, первичный                 721   \n",
       "326                              Общий анализ мочи                 711   \n",
       "414                     Прием невролога, первичный                 690   \n",
       "271                        Лазеротерапия (1 сеанс)                 656   \n",
       "\n",
       "     service_amount_sum  service_number_sum  average_cost  \n",
       "124              351628                2030        173.22  \n",
       "325             1128850                1517        744.13  \n",
       "291             1588620                1449       1096.36  \n",
       "402             1343760                 964       1393.94  \n",
       "447             1452930                 936       1552.28  \n",
       "125              452082                1230        367.55  \n",
       "421             1118820                 721       1551.76  \n",
       "326              326295                 711        458.92  \n",
       "414             1072920                 690       1554.96  \n",
       "271              633870                 656        966.27  "
      ]
     },
     "execution_count": 37,
     "metadata": {},
     "output_type": "execute_result"
    }
   ],
   "source": [
    "# топ 10 услуг 2022\n",
    "data_service_name_2022.head(10)"
   ]
  },
  {
   "cell_type": "markdown",
   "id": "43f48db9-0332-400a-82cf-632a16b6b840",
   "metadata": {},
   "source": [
    "<div style=\"border:solid green 2px; padding: 20px\">\n",
    "    \n",
    "         Таблица сравнения стоимости популярных услуг в 2021 и 2022 гг.\n",
    "\n",
    "| Наименование услуги | Количество услуг 2021| Количество услуг 2022 | Средняя цена 2021 | Средняя цена 2022|\n",
    "| ----------- | ----------- | ------------ | ----- | ------- |\n",
    "| Взятие крови из периферической вены    | 1297 | 2024 | 158.00   | 173.22 |\n",
    "| Общий анализ крови (лейкоцитарная форм,, СОЭ) | 995 |1517 | 693.00   | 744.13 |\n",
    "| Магнитотерапия (1 сеанс) |806 | 1449|  1040.00 | 1096.36 |\n",
    "| Общий анализ мочи | 491 | 711| 431.00 | 458.92 |\n",
    "| Взятие мазка | 396 | 897| 340.54 | 367.55 |\n",
    "| Лазеротерапия (1 сеанс) | 344 | 656| 914.00 | 966.27 |\n",
    "\n",
    "Можно налюдать увеличение количество каждой популярной услуги и увеличение среднего чека на услугу. Также клиника убрала наименование услуги первичный/повторный приём и разбира по врачам отдельно."
   ]
  },
  {
   "cell_type": "markdown",
   "id": "499bcb11-eda5-4850-b35b-98223ef2a2e9",
   "metadata": {},
   "source": [
    "#### Первичный и повторный приём."
   ]
  },
  {
   "cell_type": "code",
   "execution_count": 39,
   "id": "cbcd3389-9b45-457e-ae4d-05b747d7c046",
   "metadata": {},
   "outputs": [
    {
     "name": "stdout",
     "output_type": "stream",
     "text": [
      "Количество услуг первичного приёма увеличилось на: 37.51 %\n",
      "Количество услуг повторного приёма увеличилось на: 35.58 %\n",
      "Средняя стоимость первичного приёма возрасла на: 5.52 %\n",
      "Средняя стоимость повторного приёма возрасла на: 5.79 %\n"
     ]
    }
   ],
   "source": [
    "print('Количество услуг первичного приёма увеличилось на:', \n",
    "      round((1 - data_2021_8[data_2021_8['service_name'].str.contains('первичный')]['service_number'].sum()/ \\\n",
    "      data_2022[data_2022['service_name'].str.contains('первичный')]['service_number'].sum())*100, 2), '%')\n",
    "print('Количество услуг повторного приёма увеличилось на:',\n",
    "      round((1 - data_2021_8[data_2021_8['service_name'].str.contains('повторный')]['service_number'].sum()/ \\\n",
    "      data_2022[data_2022['service_name'].str.contains('повторный')]['service_number'].sum())*100, 2),'%')\n",
    "print('Средняя стоимость первичного приёма возрасла на:',\n",
    "      round((1 - data_2021_8[data_2021_8['service_name'].str.contains('первичный')]['service_amount'].mean()/ \\\n",
    "      data_2022[data_2022['service_name'].str.contains('первичный')]['service_amount'].mean())*100, 2),'%')\n",
    "print('Средняя стоимость повторного приёма возрасла на:',\n",
    "      round((1 - data_2021_8[data_2021_8['service_name'].str.contains('повторный')]['service_amount'].mean()/ \\\n",
    "      data_2022[data_2022['service_name'].str.contains('повторный')]['service_amount'].mean())*100, 2),'%')"
   ]
  },
  {
   "cell_type": "markdown",
   "id": "7d1ad82a-bea3-4444-9456-935f9104cc3a",
   "metadata": {},
   "source": [
    "Средняя стоимость первичного/повторного приёма увеличилась не сильно, но значительный рост количества предоставляемых услуг первичного/повторного приёма может дать весомый вклад в общую прибыль клиники."
   ]
  },
  {
   "cell_type": "markdown",
   "id": "9078fac7-a475-4261-8fa4-94a1d0556a7e",
   "metadata": {},
   "source": [
    "<div style=\"border:solid blue 2px; padding: 20px\">\n",
    "    \n",
    "**Вывод по пункту.**</br>\n",
    "* Топ-6 услуг в 2021 и 2022 году:\n",
    "    * Взятие крови из периферической вены;\n",
    "    * Общий анализ крови;\n",
    "    * Магнитотерапия;\n",
    "    * Общий анализ мочи;\n",
    "    * Взятие мазка;\n",
    "    * Лазеротерапия.\n",
    "* Наблюдается рост количества популярных услуг и их цена.\n",
    "* При переходе с 2021 года на 2022 клиника изменила структуру прайса, убрав первичный/повторный приём и добавив данные наименования у лечащих врачей.\n",
    "* При анализе первичного/повторного приёма было выявлено, что произошел незначительный рост средних цен в данных категориях услуг, но заметно увеличилось количество используемых услуг."
   ]
  },
  {
   "cell_type": "markdown",
   "id": "aa2b63db-f830-4550-9494-39fa8fef96ec",
   "metadata": {},
   "source": [
    "### 3.4. Анализ по полу:"
   ]
  },
  {
   "cell_type": "code",
   "execution_count": 162,
   "id": "0590cc7c-73e9-44c3-b3c6-be6743be08fd",
   "metadata": {},
   "outputs": [
    {
     "data": {
      "image/png": "[encoded data removed]",
      "text/plain": [
       "<Figure size 1800x500 with 1 Axes>"
      ]
     },
     "metadata": {},
     "output_type": "display_data"
    }
   ],
   "source": [
    "# описываем размер графика\n",
    "plt.figure(figsize=(18, 5))\n",
    "\n",
    "# построение графика\n",
    "sns.countplot(data=data.query('year == 2021 and month < 8 or year == 2022'), x='sex_id', palette =\"coolwarm\", hue='year')\n",
    "\n",
    "# заголовок и оси\n",
    "plt.title('Диаграмма количества записей по полу клиентов в разрезе 2021 и 2022 года')\n",
    "plt.xlabel('Пол')\n",
    "plt.ylabel('Количество клиентов');"
   ]
  },
  {
   "cell_type": "markdown",
   "id": "bc0b86c7-3ffa-4a03-98ca-93ac83cb3c3d",
   "metadata": {},
   "source": [
    "Вероятнее всего 2 - женщины, 1 - мужчины.По данным Депздрава, мужчины в 1,5 раза реже женщин обращаются за мед помощью. Женщин в данных выборках больше, чем мужчин. Количество женщин увеличилось сильнее, чем количество мужчин."
   ]
  },
  {
   "cell_type": "code",
   "execution_count": 41,
   "id": "3278917a-e6f6-4e3f-9796-018b7ba6699e",
   "metadata": {},
   "outputs": [
    {
     "name": "stdout",
     "output_type": "stream",
     "text": [
      "Количество мужчин выросло на 37.71 %\n",
      "Количество женщин выросло на 36.85 %\n"
     ]
    }
   ],
   "source": [
    "# определим в каком процентном соотношении выросли группы\n",
    "print('Количество мужчин выросло на',\n",
    "      round((1-data_2021_8.query('sex_id == 1.0')['insured'].nunique()/data_2022.query('sex_id == 1.0')['insured'].nunique())*100, 2), '%')\n",
    "print('Количество женщин выросло на',\n",
    "      round((1-data_2021_8.query('sex_id == 2.0')['insured'].nunique()/data_2022.query('sex_id == 2.0')['insured'].nunique())*100, 2), '%')"
   ]
  },
  {
   "cell_type": "markdown",
   "id": "b53dc1d1-ae7a-4fcb-81e6-bbe559cb6a53",
   "metadata": {},
   "source": [
    "#### Распределение услуг и суммы выплат по полу."
   ]
  },
  {
   "cell_type": "code",
   "execution_count": 42,
   "id": "f39de1b1-46a7-4e54-9075-6f66a789bdcd",
   "metadata": {},
   "outputs": [],
   "source": [
    "# создаём таблицу, сгруппированную по полу и наимеванию услуг\n",
    "# для каждой услуги считаем общий доход и количество использований услуги\n",
    "data_sex_2021 = data_2021_8.groupby(['sex_id', 'service_name']).agg({'service_amount': ['sum'],\n",
    "                                                                               'service_number' : ['sum']}).reset_index()\n",
    "\n",
    "# переименовываем столбцы\n",
    "# вводим столбец средней стоимости услуги\n",
    "data_sex_2021.columns = ['sex_id', 'service_name', 'service_amount', 'service_number']\n",
    "data_sex_2021['average_cost'] = data_sex_2021['service_amount']/data_sex_2021['service_number']\n",
    "data_sex_2021['average_cost'] = round(data_sex_2021['average_cost'], 2)\n",
    "\n",
    "# сортируем\n",
    "data_sex_2021 = data_sex_2021.sort_values(by='service_number', ascending=False)\n",
    "\n",
    "# аналогично для 2022 года\n",
    "data_sex_2022 = data_2022.groupby(['sex_id', 'service_name']).agg({'service_amount': ['sum'],\n",
    "                                                                               'service_number' : ['sum']}).reset_index()\n",
    "data_sex_2022.columns = ['sex_id', 'service_name', 'service_amount', 'service_number']\n",
    "data_sex_2022['average_cost'] = data_sex_2022['service_amount']/data_sex_2022['service_number']\n",
    "data_sex_2022['average_cost'] = round(data_sex_2022['average_cost'], 2)\n",
    "\n",
    "# сортируем\n",
    "data_sex_2022 = data_sex_2022.sort_values(by='service_number', ascending=False)"
   ]
  },
  {
   "cell_type": "markdown",
   "id": "e642e963-a718-4d1f-aefa-0b79f704f1ed",
   "metadata": {},
   "source": [
    "**Женщины**"
   ]
  },
  {
   "cell_type": "markdown",
   "id": "28b06187-27aa-44d5-9f06-48194a2af375",
   "metadata": {},
   "source": [
    "Посмотрим на популярные услуги у женщин, исключая общепопулярные услуги."
   ]
  },
  {
   "cell_type": "code",
   "execution_count": 43,
   "id": "3dc26cf7-ac13-4d11-816b-040c36d6873a",
   "metadata": {},
   "outputs": [
    {
     "data": {
      "text/html": [
       "<div>\n",
       "<style scoped>\n",
       "    .dataframe tbody tr th:only-of-type {\n",
       "        vertical-align: middle;\n",
       "    }\n",
       "\n",
       "    .dataframe tbody tr th {\n",
       "        vertical-align: top;\n",
       "    }\n",
       "\n",
       "    .dataframe thead th {\n",
       "        text-align: right;\n",
       "    }\n",
       "</style>\n",
       "<table border=\"1\" class=\"dataframe\">\n",
       "  <thead>\n",
       "    <tr style=\"text-align: right;\">\n",
       "      <th></th>\n",
       "      <th>sex_id</th>\n",
       "      <th>service_name</th>\n",
       "      <th>service_amount</th>\n",
       "      <th>service_number</th>\n",
       "      <th>average_cost</th>\n",
       "    </tr>\n",
       "  </thead>\n",
       "  <tbody>\n",
       "    <tr>\n",
       "      <th>535</th>\n",
       "      <td>2.0</td>\n",
       "      <td>Гинекологический мазок</td>\n",
       "      <td>197400</td>\n",
       "      <td>376</td>\n",
       "      <td>525.0</td>\n",
       "    </tr>\n",
       "    <tr>\n",
       "      <th>865</th>\n",
       "      <td>2.0</td>\n",
       "      <td>Ультразвуковое исследование гинекология трансв...</td>\n",
       "      <td>508200</td>\n",
       "      <td>242</td>\n",
       "      <td>2100.0</td>\n",
       "    </tr>\n",
       "    <tr>\n",
       "      <th>804</th>\n",
       "      <td>2.0</td>\n",
       "      <td>Рефрактометрия</td>\n",
       "      <td>166362</td>\n",
       "      <td>233</td>\n",
       "      <td>714.0</td>\n",
       "    </tr>\n",
       "    <tr>\n",
       "      <th>587</th>\n",
       "      <td>2.0</td>\n",
       "      <td>Исследование соскобов  с поверхн, шейки матки</td>\n",
       "      <td>183876</td>\n",
       "      <td>199</td>\n",
       "      <td>924.0</td>\n",
       "    </tr>\n",
       "    <tr>\n",
       "      <th>586</th>\n",
       "      <td>2.0</td>\n",
       "      <td>Исследование соскобов  с поверхн, цервикальног...</td>\n",
       "      <td>180180</td>\n",
       "      <td>195</td>\n",
       "      <td>924.0</td>\n",
       "    </tr>\n",
       "    <tr>\n",
       "      <th>817</th>\n",
       "      <td>2.0</td>\n",
       "      <td>Сеанс рефлексотерапии</td>\n",
       "      <td>339822</td>\n",
       "      <td>186</td>\n",
       "      <td>1827.0</td>\n",
       "    </tr>\n",
       "    <tr>\n",
       "      <th>833</th>\n",
       "      <td>2.0</td>\n",
       "      <td>ТТГ (тиреотропин)</td>\n",
       "      <td>91120</td>\n",
       "      <td>170</td>\n",
       "      <td>536.0</td>\n",
       "    </tr>\n",
       "    <tr>\n",
       "      <th>571</th>\n",
       "      <td>2.0</td>\n",
       "      <td>Интерференционные токи (1 сеанс) (4 поля)</td>\n",
       "      <td>166400</td>\n",
       "      <td>160</td>\n",
       "      <td>1040.0</td>\n",
       "    </tr>\n",
       "    <tr>\n",
       "      <th>462</th>\n",
       "      <td>2.0</td>\n",
       "      <td>АЛТ (аланинаминотрансфераза)</td>\n",
       "      <td>43090</td>\n",
       "      <td>155</td>\n",
       "      <td>278.0</td>\n",
       "    </tr>\n",
       "    <tr>\n",
       "      <th>563</th>\n",
       "      <td>2.0</td>\n",
       "      <td>Измерение внутриглазного давления</td>\n",
       "      <td>89590</td>\n",
       "      <td>155</td>\n",
       "      <td>578.0</td>\n",
       "    </tr>\n",
       "  </tbody>\n",
       "</table>\n",
       "</div>"
      ],
      "text/plain": [
       "     sex_id                                       service_name  \\\n",
       "535     2.0                             Гинекологический мазок   \n",
       "865     2.0  Ультразвуковое исследование гинекология трансв...   \n",
       "804     2.0                                     Рефрактометрия   \n",
       "587     2.0      Исследование соскобов  с поверхн, шейки матки   \n",
       "586     2.0  Исследование соскобов  с поверхн, цервикальног...   \n",
       "817     2.0                              Сеанс рефлексотерапии   \n",
       "833     2.0                                  ТТГ (тиреотропин)   \n",
       "571     2.0          Интерференционные токи (1 сеанс) (4 поля)   \n",
       "462     2.0                       АЛТ (аланинаминотрансфераза)   \n",
       "563     2.0                  Измерение внутриглазного давления   \n",
       "\n",
       "     service_amount  service_number  average_cost  \n",
       "535          197400             376         525.0  \n",
       "865          508200             242        2100.0  \n",
       "804          166362             233         714.0  \n",
       "587          183876             199         924.0  \n",
       "586          180180             195         924.0  \n",
       "817          339822             186        1827.0  \n",
       "833           91120             170         536.0  \n",
       "571          166400             160        1040.0  \n",
       "462           43090             155         278.0  \n",
       "563           89590             155         578.0  "
      ]
     },
     "execution_count": 43,
     "metadata": {},
     "output_type": "execute_result"
    }
   ],
   "source": [
    "data_sex_2021.query('sex_id == 2.0 and \\\n",
    "                     service_name != \"Прием первичный\" and \\\n",
    "                     service_name != \"Прием повторный\" and \\\n",
    "                     service_name != \"Общий анализ крови (лейкоцитарная форм,, СОЭ)\" and \\\n",
    "                     service_name != \"Магнитотерапия (1 сеанс)\" and \\\n",
    "                     service_name != \"Взятие крови из периферической вены\" and \\\n",
    "                     service_name != \"Общий анализ мочи\" and \\\n",
    "                     service_name != \"Взятие мазка\" and \\\n",
    "                     service_name != \"Лазеротерапия (1 сеанс)\"').head(10)"
   ]
  },
  {
   "cell_type": "code",
   "execution_count": 44,
   "id": "737aa951-19c6-4a46-a188-6486ed0dcf4f",
   "metadata": {},
   "outputs": [
    {
     "data": {
      "text/html": [
       "<div>\n",
       "<style scoped>\n",
       "    .dataframe tbody tr th:only-of-type {\n",
       "        vertical-align: middle;\n",
       "    }\n",
       "\n",
       "    .dataframe tbody tr th {\n",
       "        vertical-align: top;\n",
       "    }\n",
       "\n",
       "    .dataframe thead th {\n",
       "        text-align: right;\n",
       "    }\n",
       "</style>\n",
       "<table border=\"1\" class=\"dataframe\">\n",
       "  <thead>\n",
       "    <tr style=\"text-align: right;\">\n",
       "      <th></th>\n",
       "      <th>sex_id</th>\n",
       "      <th>service_name</th>\n",
       "      <th>service_amount</th>\n",
       "      <th>service_number</th>\n",
       "      <th>average_cost</th>\n",
       "    </tr>\n",
       "  </thead>\n",
       "  <tbody>\n",
       "    <tr>\n",
       "      <th>619</th>\n",
       "      <td>2.0</td>\n",
       "      <td>Гинекологический мазок</td>\n",
       "      <td>344650</td>\n",
       "      <td>615</td>\n",
       "      <td>560.41</td>\n",
       "    </tr>\n",
       "    <tr>\n",
       "      <th>1009</th>\n",
       "      <td>2.0</td>\n",
       "      <td>Ультразвуковое исследование гинекология трансв...</td>\n",
       "      <td>1016540</td>\n",
       "      <td>454</td>\n",
       "      <td>2239.07</td>\n",
       "    </tr>\n",
       "    <tr>\n",
       "      <th>659</th>\n",
       "      <td>2.0</td>\n",
       "      <td>Интерференционные токи (1 сеанс) (4 поля)</td>\n",
       "      <td>390830</td>\n",
       "      <td>356</td>\n",
       "      <td>1097.84</td>\n",
       "    </tr>\n",
       "    <tr>\n",
       "      <th>674</th>\n",
       "      <td>2.0</td>\n",
       "      <td>Исследование соскобов  с поверхн, цервикальног...</td>\n",
       "      <td>340360</td>\n",
       "      <td>349</td>\n",
       "      <td>975.24</td>\n",
       "    </tr>\n",
       "    <tr>\n",
       "      <th>675</th>\n",
       "      <td>2.0</td>\n",
       "      <td>Исследование соскобов  с поверхн, шейки матки</td>\n",
       "      <td>332600</td>\n",
       "      <td>341</td>\n",
       "      <td>975.37</td>\n",
       "    </tr>\n",
       "    <tr>\n",
       "      <th>971</th>\n",
       "      <td>2.0</td>\n",
       "      <td>ТТГ (тиреотропин)</td>\n",
       "      <td>164560</td>\n",
       "      <td>290</td>\n",
       "      <td>567.45</td>\n",
       "    </tr>\n",
       "    <tr>\n",
       "      <th>942</th>\n",
       "      <td>2.0</td>\n",
       "      <td>Рефрактометрия</td>\n",
       "      <td>219225</td>\n",
       "      <td>287</td>\n",
       "      <td>763.85</td>\n",
       "    </tr>\n",
       "    <tr>\n",
       "      <th>1019</th>\n",
       "      <td>2.0</td>\n",
       "      <td>Ультразвуковое исследование щитовидной железы ...</td>\n",
       "      <td>499220</td>\n",
       "      <td>249</td>\n",
       "      <td>2004.90</td>\n",
       "    </tr>\n",
       "    <tr>\n",
       "      <th>957</th>\n",
       "      <td>2.0</td>\n",
       "      <td>Снятие ЭКГ (без интерпретации и описания)</td>\n",
       "      <td>99040</td>\n",
       "      <td>244</td>\n",
       "      <td>405.90</td>\n",
       "    </tr>\n",
       "    <tr>\n",
       "      <th>656</th>\n",
       "      <td>2.0</td>\n",
       "      <td>Интерпретация ЭКГ с описанием</td>\n",
       "      <td>136180</td>\n",
       "      <td>244</td>\n",
       "      <td>558.11</td>\n",
       "    </tr>\n",
       "  </tbody>\n",
       "</table>\n",
       "</div>"
      ],
      "text/plain": [
       "      sex_id                                       service_name  \\\n",
       "619      2.0                             Гинекологический мазок   \n",
       "1009     2.0  Ультразвуковое исследование гинекология трансв...   \n",
       "659      2.0          Интерференционные токи (1 сеанс) (4 поля)   \n",
       "674      2.0  Исследование соскобов  с поверхн, цервикальног...   \n",
       "675      2.0      Исследование соскобов  с поверхн, шейки матки   \n",
       "971      2.0                                  ТТГ (тиреотропин)   \n",
       "942      2.0                                     Рефрактометрия   \n",
       "1019     2.0  Ультразвуковое исследование щитовидной железы ...   \n",
       "957      2.0          Снятие ЭКГ (без интерпретации и описания)   \n",
       "656      2.0                      Интерпретация ЭКГ с описанием   \n",
       "\n",
       "      service_amount  service_number  average_cost  \n",
       "619           344650             615        560.41  \n",
       "1009         1016540             454       2239.07  \n",
       "659           390830             356       1097.84  \n",
       "674           340360             349        975.24  \n",
       "675           332600             341        975.37  \n",
       "971           164560             290        567.45  \n",
       "942           219225             287        763.85  \n",
       "1019          499220             249       2004.90  \n",
       "957            99040             244        405.90  \n",
       "656           136180             244        558.11  "
      ]
     },
     "execution_count": 44,
     "metadata": {},
     "output_type": "execute_result"
    }
   ],
   "source": [
    "data_sex_2022.query('sex_id == 2.0 and \\\n",
    "                     service_name != \"Прием первичный\" and \\\n",
    "                     service_name != \"Прием повторный\" and \\\n",
    "                     service_name != \"Общий анализ крови (лейкоцитарная форм,, СОЭ)\" and \\\n",
    "                     service_name != \"Магнитотерапия (1 сеанс)\" and \\\n",
    "                     service_name != \"Взятие крови из периферической вены\" and \\\n",
    "                     service_name != \"Общий анализ мочи\" and \\\n",
    "                     service_name != \"Взятие мазка\" and \\\n",
    "                     service_name != \"Лазеротерапия (1 сеанс)\"') \\\n",
    "             .loc[~data_sex_2022['service_name'].str.contains('первичный', na=False)] \\\n",
    "             .loc[~data_sex_2022['service_name'].str.contains('повторный', na=False)].head(10)"
   ]
  },
  {
   "cell_type": "markdown",
   "id": "e16f136c-b175-450c-b084-03f77032ee37",
   "metadata": {},
   "source": [
    "<div style=\"border:solid green 2px; padding: 20px\">\n",
    "    \n",
    "         Таблица сравнения стоимости услуг в 2021 и 2022 годах у женщин\n",
    "\n",
    "| Наименование услуги | Количество услуг 2021| Количество услуг 2022 | Средняя цена 2021 | Средняя цена 2022|\n",
    "| ----------- | ----------- | ------------ | ----- | ------- |\n",
    "| Гинекологический мазок    | 376 | 615 | 525.00   | 560.41 |\n",
    "| Ультразвуковое исследование гинекология трансв... | 242 | 454 | 2100.0   | 2239.07 |\n",
    "| Исследование соскобов с поверхн, цервикальног.. |195 | 349|  924.0 | 975.24 |\n",
    "| Исследование соскобов с поверхн, шейки матки | 199 | 341| 924.0 | 975.37 |\n",
    "| Рефрактометрия | 233 | 287| 714.0 | 763.85 |\n",
    "| ТТГ (тиреотропин) | 170 | 290| 536.0 | 567.45 |"
   ]
  },
  {
   "cell_type": "markdown",
   "id": "e69b13b0-8ef0-4e98-88de-8446e97e8c04",
   "metadata": {},
   "source": [
    "Наблюдается увеличение частоты использования услуг и увеличение средней цены всех популярных услуг."
   ]
  },
  {
   "cell_type": "markdown",
   "id": "9cf36697-258c-4a5b-9c96-308aa8aa372e",
   "metadata": {},
   "source": [
    "**Мужчины**"
   ]
  },
  {
   "cell_type": "code",
   "execution_count": 45,
   "id": "9bb4e705-52eb-4b20-af3a-ba4cf18e631e",
   "metadata": {},
   "outputs": [
    {
     "data": {
      "text/html": [
       "<div>\n",
       "<style scoped>\n",
       "    .dataframe tbody tr th:only-of-type {\n",
       "        vertical-align: middle;\n",
       "    }\n",
       "\n",
       "    .dataframe tbody tr th {\n",
       "        vertical-align: top;\n",
       "    }\n",
       "\n",
       "    .dataframe thead th {\n",
       "        text-align: right;\n",
       "    }\n",
       "</style>\n",
       "<table border=\"1\" class=\"dataframe\">\n",
       "  <thead>\n",
       "    <tr style=\"text-align: right;\">\n",
       "      <th></th>\n",
       "      <th>sex_id</th>\n",
       "      <th>service_name</th>\n",
       "      <th>service_amount</th>\n",
       "      <th>service_number</th>\n",
       "      <th>average_cost</th>\n",
       "    </tr>\n",
       "  </thead>\n",
       "  <tbody>\n",
       "    <tr>\n",
       "      <th>116</th>\n",
       "      <td>1.0</td>\n",
       "      <td>Интерференционные токи (1 сеанс) (4 поля)</td>\n",
       "      <td>214240</td>\n",
       "      <td>206</td>\n",
       "      <td>1040.0</td>\n",
       "    </tr>\n",
       "    <tr>\n",
       "      <th>307</th>\n",
       "      <td>1.0</td>\n",
       "      <td>Рефрактометрия</td>\n",
       "      <td>98532</td>\n",
       "      <td>138</td>\n",
       "      <td>714.0</td>\n",
       "    </tr>\n",
       "    <tr>\n",
       "      <th>313</th>\n",
       "      <td>1.0</td>\n",
       "      <td>Сеанс рефлексотерапии</td>\n",
       "      <td>232029</td>\n",
       "      <td>127</td>\n",
       "      <td>1827.0</td>\n",
       "    </tr>\n",
       "    <tr>\n",
       "      <th>112</th>\n",
       "      <td>1.0</td>\n",
       "      <td>Интерпретация ЭКГ с описанием</td>\n",
       "      <td>62475</td>\n",
       "      <td>119</td>\n",
       "      <td>525.0</td>\n",
       "    </tr>\n",
       "    <tr>\n",
       "      <th>316</th>\n",
       "      <td>1.0</td>\n",
       "      <td>Снятие ЭКГ (без интерпретации и описания)</td>\n",
       "      <td>44226</td>\n",
       "      <td>117</td>\n",
       "      <td>378.0</td>\n",
       "    </tr>\n",
       "    <tr>\n",
       "      <th>88</th>\n",
       "      <td>1.0</td>\n",
       "      <td>Глюкоза крови</td>\n",
       "      <td>30849</td>\n",
       "      <td>113</td>\n",
       "      <td>273.0</td>\n",
       "    </tr>\n",
       "    <tr>\n",
       "      <th>148</th>\n",
       "      <td>1.0</td>\n",
       "      <td>Комплексная мануальная терапия</td>\n",
       "      <td>337050</td>\n",
       "      <td>107</td>\n",
       "      <td>3150.0</td>\n",
       "    </tr>\n",
       "    <tr>\n",
       "      <th>24</th>\n",
       "      <td>1.0</td>\n",
       "      <td>АЛТ (аланинаминотрансфераза)</td>\n",
       "      <td>26410</td>\n",
       "      <td>95</td>\n",
       "      <td>278.0</td>\n",
       "    </tr>\n",
       "    <tr>\n",
       "      <th>157</th>\n",
       "      <td>1.0</td>\n",
       "      <td>Креатинин</td>\n",
       "      <td>22990</td>\n",
       "      <td>95</td>\n",
       "      <td>242.0</td>\n",
       "    </tr>\n",
       "    <tr>\n",
       "      <th>26</th>\n",
       "      <td>1.0</td>\n",
       "      <td>АСТ (аспартатаминотрансфераза)</td>\n",
       "      <td>22990</td>\n",
       "      <td>95</td>\n",
       "      <td>242.0</td>\n",
       "    </tr>\n",
       "  </tbody>\n",
       "</table>\n",
       "</div>"
      ],
      "text/plain": [
       "     sex_id                               service_name  service_amount  \\\n",
       "116     1.0  Интерференционные токи (1 сеанс) (4 поля)          214240   \n",
       "307     1.0                             Рефрактометрия           98532   \n",
       "313     1.0                      Сеанс рефлексотерапии          232029   \n",
       "112     1.0              Интерпретация ЭКГ с описанием           62475   \n",
       "316     1.0  Снятие ЭКГ (без интерпретации и описания)           44226   \n",
       "88      1.0                              Глюкоза крови           30849   \n",
       "148     1.0             Комплексная мануальная терапия          337050   \n",
       "24      1.0               АЛТ (аланинаминотрансфераза)           26410   \n",
       "157     1.0                                  Креатинин           22990   \n",
       "26      1.0             АСТ (аспартатаминотрансфераза)           22990   \n",
       "\n",
       "     service_number  average_cost  \n",
       "116             206        1040.0  \n",
       "307             138         714.0  \n",
       "313             127        1827.0  \n",
       "112             119         525.0  \n",
       "316             117         378.0  \n",
       "88              113         273.0  \n",
       "148             107        3150.0  \n",
       "24               95         278.0  \n",
       "157              95         242.0  \n",
       "26               95         242.0  "
      ]
     },
     "execution_count": 45,
     "metadata": {},
     "output_type": "execute_result"
    }
   ],
   "source": [
    "data_sex_2021.query('sex_id == 1.0 and \\\n",
    "                     service_name != \"Прием первичный\" and \\\n",
    "                     service_name != \"Прием повторный\" and \\\n",
    "                     service_name != \"Общий анализ крови (лейкоцитарная форм,, СОЭ)\" and \\\n",
    "                     service_name != \"Магнитотерапия (1 сеанс)\" and \\\n",
    "                     service_name != \"Взятие крови из периферической вены\" and \\\n",
    "                     service_name != \"Общий анализ мочи\" and \\\n",
    "                     service_name != \"Взятие мазка\" and \\\n",
    "                     service_name != \"Лазеротерапия (1 сеанс)\"').head(10)"
   ]
  },
  {
   "cell_type": "code",
   "execution_count": 46,
   "id": "a163bdb5-7e77-4f86-afcb-0e65432e70b9",
   "metadata": {
    "scrolled": true
   },
   "outputs": [
    {
     "data": {
      "text/html": [
       "<div>\n",
       "<style scoped>\n",
       "    .dataframe tbody tr th:only-of-type {\n",
       "        vertical-align: middle;\n",
       "    }\n",
       "\n",
       "    .dataframe tbody tr th {\n",
       "        vertical-align: top;\n",
       "    }\n",
       "\n",
       "    .dataframe thead th {\n",
       "        text-align: right;\n",
       "    }\n",
       "</style>\n",
       "<table border=\"1\" class=\"dataframe\">\n",
       "  <thead>\n",
       "    <tr style=\"text-align: right;\">\n",
       "      <th></th>\n",
       "      <th>sex_id</th>\n",
       "      <th>service_name</th>\n",
       "      <th>service_amount</th>\n",
       "      <th>service_number</th>\n",
       "      <th>average_cost</th>\n",
       "    </tr>\n",
       "  </thead>\n",
       "  <tbody>\n",
       "    <tr>\n",
       "      <th>137</th>\n",
       "      <td>1.0</td>\n",
       "      <td>Интерференционные токи (1 сеанс) (4 поля)</td>\n",
       "      <td>251290</td>\n",
       "      <td>229</td>\n",
       "      <td>1097.34</td>\n",
       "    </tr>\n",
       "    <tr>\n",
       "      <th>402</th>\n",
       "      <td>1.0</td>\n",
       "      <td>Снятие ЭКГ (без интерпретации и описания)</td>\n",
       "      <td>73800</td>\n",
       "      <td>181</td>\n",
       "      <td>407.73</td>\n",
       "    </tr>\n",
       "    <tr>\n",
       "      <th>133</th>\n",
       "      <td>1.0</td>\n",
       "      <td>Интерпретация ЭКГ с описанием</td>\n",
       "      <td>100375</td>\n",
       "      <td>179</td>\n",
       "      <td>560.75</td>\n",
       "    </tr>\n",
       "    <tr>\n",
       "      <th>389</th>\n",
       "      <td>1.0</td>\n",
       "      <td>Рефрактометрия</td>\n",
       "      <td>126300</td>\n",
       "      <td>166</td>\n",
       "      <td>760.84</td>\n",
       "    </tr>\n",
       "    <tr>\n",
       "      <th>178</th>\n",
       "      <td>1.0</td>\n",
       "      <td>Комплексная мануальная терапия</td>\n",
       "      <td>495890</td>\n",
       "      <td>149</td>\n",
       "      <td>3328.12</td>\n",
       "    </tr>\n",
       "    <tr>\n",
       "      <th>169</th>\n",
       "      <td>1.0</td>\n",
       "      <td>Классический лечебный массаж спины</td>\n",
       "      <td>229020</td>\n",
       "      <td>149</td>\n",
       "      <td>1537.05</td>\n",
       "    </tr>\n",
       "    <tr>\n",
       "      <th>42</th>\n",
       "      <td>1.0</td>\n",
       "      <td>АСТ (аспартатаминотрансфераза)</td>\n",
       "      <td>35250</td>\n",
       "      <td>139</td>\n",
       "      <td>253.60</td>\n",
       "    </tr>\n",
       "    <tr>\n",
       "      <th>40</th>\n",
       "      <td>1.0</td>\n",
       "      <td>АЛТ (аланинаминотрансфераза)</td>\n",
       "      <td>40510</td>\n",
       "      <td>139</td>\n",
       "      <td>291.44</td>\n",
       "    </tr>\n",
       "    <tr>\n",
       "      <th>398</th>\n",
       "      <td>1.0</td>\n",
       "      <td>Сеанс рефлексотерапии</td>\n",
       "      <td>264300</td>\n",
       "      <td>137</td>\n",
       "      <td>1929.20</td>\n",
       "    </tr>\n",
       "    <tr>\n",
       "      <th>107</th>\n",
       "      <td>1.0</td>\n",
       "      <td>Глюкоза крови</td>\n",
       "      <td>39660</td>\n",
       "      <td>136</td>\n",
       "      <td>291.62</td>\n",
       "    </tr>\n",
       "  </tbody>\n",
       "</table>\n",
       "</div>"
      ],
      "text/plain": [
       "     sex_id                               service_name  service_amount  \\\n",
       "137     1.0  Интерференционные токи (1 сеанс) (4 поля)          251290   \n",
       "402     1.0  Снятие ЭКГ (без интерпретации и описания)           73800   \n",
       "133     1.0              Интерпретация ЭКГ с описанием          100375   \n",
       "389     1.0                             Рефрактометрия          126300   \n",
       "178     1.0             Комплексная мануальная терапия          495890   \n",
       "169     1.0         Классический лечебный массаж спины          229020   \n",
       "42      1.0             АСТ (аспартатаминотрансфераза)           35250   \n",
       "40      1.0               АЛТ (аланинаминотрансфераза)           40510   \n",
       "398     1.0                      Сеанс рефлексотерапии          264300   \n",
       "107     1.0                              Глюкоза крови           39660   \n",
       "\n",
       "     service_number  average_cost  \n",
       "137             229       1097.34  \n",
       "402             181        407.73  \n",
       "133             179        560.75  \n",
       "389             166        760.84  \n",
       "178             149       3328.12  \n",
       "169             149       1537.05  \n",
       "42              139        253.60  \n",
       "40              139        291.44  \n",
       "398             137       1929.20  \n",
       "107             136        291.62  "
      ]
     },
     "execution_count": 46,
     "metadata": {},
     "output_type": "execute_result"
    }
   ],
   "source": [
    "data_sex_2022.query('sex_id == 1.0 and \\\n",
    "                     service_name != \"Прием первичный\" and \\\n",
    "                     service_name != \"Прием повторный\" and \\\n",
    "                     service_name != \"Общий анализ крови (лейкоцитарная форм,, СОЭ)\" and \\\n",
    "                     service_name != \"Магнитотерапия (1 сеанс)\" and \\\n",
    "                     service_name != \"Взятие крови из периферической вены\" and \\\n",
    "                     service_name != \"Общий анализ мочи\" and \\\n",
    "                     service_name != \"Взятие мазка\" and \\\n",
    "                     service_name != \"Лазеротерапия (1 сеанс)\"') \\\n",
    "             .loc[~data_sex_2022['service_name'].str.contains('первичный', na=False)] \\\n",
    "             .loc[~data_sex_2022['service_name'].str.contains('повторный', na=False)].head(10)"
   ]
  },
  {
   "cell_type": "markdown",
   "id": "a4beaabd-3f7c-4cb1-b293-a5fb5e0eb62f",
   "metadata": {},
   "source": [
    "<div style=\"border:solid green 2px; padding: 20px\">\n",
    "    \n",
    "         Таблица сравнения стоимости услуг в 2021 и 2022 годах у мужчин\n",
    "\n",
    "| Наименование услуги | Количество услуг 2021| Количество услуг 2022 | Средняя цена 2021 | Средняя цена 2022|\n",
    "| ----------- | ----------- | ------------ | ----- | ------- |\n",
    "| Интерференционные токи (1 сеанс) (4 поля)   | 206 | 229 | 1040.0   | 1097.34 |\n",
    "| Сеанс рефлексотерапии | 127 | 137 | 1827.0   | 1929.20 |\n",
    "| Интерпретация ЭКГ с описанием |119 | 179|  525.0 | 560.75 |\n",
    "| Снятие ЭКГ (без интерпретации и описания) | 117 | 181| 378.0 | 407.73 |\n",
    "| Рефрактометрия | 138 | 166| 714.0 | 760.84 |\n",
    "| Глюкоза крови | 113 | 136| 273.0 | 291.62 |"
   ]
  },
  {
   "cell_type": "markdown",
   "id": "fee2934b-c561-4a4e-8fc0-2d0a2c290a63",
   "metadata": {},
   "source": [
    "#### Доход по полу в год"
   ]
  },
  {
   "cell_type": "code",
   "execution_count": 161,
   "id": "d39b5685-8bbb-4751-8597-3a9af074c014",
   "metadata": {},
   "outputs": [
    {
     "data": {
      "image/png": "[encoded data removed]",
      "text/plain": [
       "<Figure size 700x400 with 1 Axes>"
      ]
     },
     "metadata": {},
     "output_type": "display_data"
    }
   ],
   "source": [
    "# график суммы выплат по возрастным группам\n",
    "plt.figure(figsize=(7, 4))\n",
    "ax = sns.barplot(y='service_amount',x='sex_id',data = data_2022.groupby(['sex_id']).agg({'service_amount':'sum'}).reset_index(), \n",
    "            color='blue', alpha=0.5)\n",
    "ax = sns.barplot(y='service_amount',x='sex_id',data = data_2021_8.groupby(['sex_id']).agg({'service_amount':'sum'}).reset_index(), \n",
    "            color='red', alpha=0.5)\n",
    "\n",
    "# Создаем квадраты, представляющие каждый график в легенде\n",
    "legend_patches = [Patch(color='red', alpha=0.5, label='2021'), Patch(color='blue', alpha=0.5, label='2022')]\n",
    "\n",
    "# Добавление легенды\n",
    "plt.legend(handles=legend_patches)\n",
    "\n",
    "# Заголовки и подписи осей\n",
    "plt.title('Сумма выплат по полу в разрезе года', pad = 20)\n",
    "plt.xlabel('Пол')\n",
    "plt.ylabel('Сумма выплат');"
   ]
  },
  {
   "cell_type": "code",
   "execution_count": 48,
   "id": "bdc11bfe-3930-4f0d-8773-377296f4a602",
   "metadata": {},
   "outputs": [
    {
     "name": "stdout",
     "output_type": "stream",
     "text": [
      "Доход от женщин 2021: 18369413\n",
      "Доход от мужчин 2021: 11566224\n",
      "Доход от женщин 2022: 30926035\n",
      "Доход от мужчин 2022: 18060627\n",
      "Доход от женщин увеличился на: 40.6 %\n",
      "Доход от мужчин увеличился на: 35.96 %\n",
      "Доход от женщин отличается от дохода мужчин в 2021 году на: 37.04 %\n",
      "Доход от женщин отличается от дохода мужчин в 2022 году на: 41.6 %\n"
     ]
    }
   ],
   "source": [
    "print('Доход от женщин 2021:', data_2021_8.query('sex_id == 2.0')['service_amount'].sum())\n",
    "print('Доход от мужчин 2021:', data_2021_8.query('sex_id == 1.0')['service_amount'].sum())\n",
    "print('Доход от женщин 2022:', data_2022.query('sex_id == 2.0')['service_amount'].sum())\n",
    "print('Доход от мужчин 2022:', data_2022.query('sex_id == 1.0')['service_amount'].sum())\n",
    "print('Доход от женщин увеличился на:', round((1-data_2021_8.query('sex_id == 2.0')['service_amount'].sum()/ \\\n",
    "                                              data_2022.query('sex_id == 2.0')['service_amount'].sum())*100, 2), '%')\n",
    "print('Доход от мужчин увеличился на:', round((1-data_2021_8.query('sex_id == 1.0')['service_amount'].sum()/ \\\n",
    "                                              data_2022.query('sex_id == 1.0')['service_amount'].sum())*100, 2), '%')\n",
    "print('Доход от женщин отличается от дохода мужчин в 2021 году на:',  \n",
    "      round((1-data_2021_8.query('sex_id == 1.0')['service_amount'].sum()/ \\\n",
    "            data_2021_8.query('sex_id == 2.0')['service_amount'].sum())*100, 2),  '%')\n",
    "print('Доход от женщин отличается от дохода мужчин в 2022 году на:',  \n",
    "      round((1-data_2022.query('sex_id == 1.0')['service_amount'].sum()/ \\\n",
    "            data_2022.query('sex_id == 2.0')['service_amount'].sum())*100, 2), '%')"
   ]
  },
  {
   "cell_type": "markdown",
   "id": "25e484b1-8b7e-4cd0-a8d9-989c4fef5dc5",
   "metadata": {},
   "source": [
    "<div style=\"border:solid blue 2px; padding: 20px\">\n",
    "    \n",
    "**Вывод по пункту.**</br>\n",
    "* В наших данных количество пациентов женского пола преобладает над количеством пациентов мужского пола\n",
    "* В 2022 году количество женщин выросло сильнее, чем количество мужчин\n",
    "* Топ-6 популярных услуг для женщин:\n",
    "    * Гинекологический мазок\n",
    "    * Ультразвуковое исследование гинекология трансв...\n",
    "    * Исследование соскобов с поверхн, цервикальног..\n",
    "    * Исследование соскобов с поверхн, шейки матки\n",
    "    * Рефрактометрия\n",
    "    * ТТГ (тиреотропин)\n",
    "* Топ-6 популярных услуг для мужчин:\n",
    "    * Интерференционные токи (1 сеанс) (4 поля)\n",
    "    * Сеанс рефлексотерапии\n",
    "    * Интерпретация ЭКГ с описанием\n",
    "    * Снятие ЭКГ (без интерпретации и описания)\n",
    "    * Рефрактометрия\n",
    "    * Глюкоза крови\n",
    "* Для популярных услуг среди мужчин и женщин наблюдается рост в средней стоимости услуг и увеличение количества используемых услуг.\n",
    "* Не смотря на то, что количество мужчин выросло сильнее на ~1%, доход от женщин вырос на 4.64% больше по сравнению с мужчинами. Можно утверждать что женщины приносят больше прибыли клинике."
   ]
  },
  {
   "cell_type": "markdown",
   "id": "1d60bdc1-d75a-4362-bea4-c117602ffa0a",
   "metadata": {},
   "source": [
    "### 3.5. Анализ стабильности пациентов"
   ]
  },
  {
   "cell_type": "markdown",
   "id": "8e486382-6912-46e1-883a-53227ec4a569",
   "metadata": {},
   "source": [
    "#### Анализ ушедших, постоянных и новых клиентов"
   ]
  },
  {
   "cell_type": "code",
   "execution_count": 49,
   "id": "bdbe6cd5-8779-4793-a8ca-0d34340114f5",
   "metadata": {},
   "outputs": [],
   "source": [
    "# соединим таблицы data_2021 и data_2022 по столбцу insured методом inner\n",
    "data_merge = data_2021.merge(data_2022, how = 'inner', left_on='insured', right_on='insured')"
   ]
  },
  {
   "cell_type": "code",
   "execution_count": 50,
   "id": "c1783909-0564-4150-bfba-c995a68a6774",
   "metadata": {},
   "outputs": [
    {
     "name": "stdout",
     "output_type": "stream",
     "text": [
      "Количество уникальных посетителей: 4488\n",
      "Количество уникальных посетителей в 2021 году: 2515\n",
      "Количество уникальных посетителей в 2022 году: 2757\n",
      "Количество постоянных клиентов: 784 Процент постоянных клиентов: 17.47 %\n",
      "Количество ушедших клиентов: 1731 Процент потерянных клиентов: 38.57 %\n",
      "Количество новых посетителей: 1973 Процент новых посетителей: 43.96 %\n"
     ]
    }
   ],
   "source": [
    "# подсчёт количества посетителей в 2021 и 2022 годах\n",
    "# подсчёт количества ушедших, постоянных и новых клиентов\n",
    "print('Количество уникальных посетителей:', len(set(data['insured'])))\n",
    "print('Количество уникальных посетителей в 2021 году:', len(set(data_2021['insured'])))\n",
    "print('Количество уникальных посетителей в 2022 году:', len(set(data_2022['insured'])))\n",
    "print('Количество постоянных клиентов:', len(set(data_merge['insured'])), \n",
    "      'Процент постоянных клиентов:', round(data_merge['insured'].nunique()/data['insured'].nunique()*100, 2), '%')\n",
    "print('Количество ушедших клиентов:', len(set(data_2021['insured'])) - len(set(data_merge['insured'])),\n",
    "      'Процент потерянных клиентов:',\n",
    "      round((len(set(data_2021['insured'])) - len(set(data_merge['insured'])))/len(set(data['insured']))*100, 2), '%')\n",
    "print('Количество новых посетителей:', len(set(data_2022['insured'])) - len(set(data_merge['insured'])), \n",
    "      'Процент новых посетителей:',\n",
    "     round((len(set(data_2022['insured'])) - len(set(data_merge['insured'])))/len(set(data['insured']))*100, 2), '%')"
   ]
  },
  {
   "cell_type": "markdown",
   "id": "f02a65fb-f6bb-4818-bf9e-f87eca6f7e4f",
   "metadata": {},
   "source": [
    "#### Ушедшие клиенты"
   ]
  },
  {
   "cell_type": "code",
   "execution_count": 51,
   "id": "c4dae03c-84b1-4bcf-bd47-1ef39c50ab0b",
   "metadata": {},
   "outputs": [
    {
     "name": "stdout",
     "output_type": "stream",
     "text": [
      "Количество ушедших клиентов 1731\n"
     ]
    }
   ],
   "source": [
    "# Оставим в данных 2021 года тех клиентов, которых нет в таблице 2022\n",
    "data_сhurn = data_2021[~(data_2021.insured.isin(data_2022.insured.unique()))] \n",
    "print('Количество ушедших клиентов', data_сhurn['insured'].nunique())"
   ]
  },
  {
   "cell_type": "code",
   "execution_count": 52,
   "id": "613390a1-bcc3-42fe-b55c-f1dcaa6ceeb7",
   "metadata": {},
   "outputs": [
    {
     "data": {
      "text/plain": [
       "Прием первичный                                  3774\n",
       "Прием повторный                                  2682\n",
       "Взятие крови из периферической вены              1194\n",
       "Общий анализ крови (лейкоцитарная форм,, СОЭ)     905\n",
       "Магнитотерапия (1 сеанс)                          815\n",
       "Общий анализ мочи                                 430\n",
       "Интерференционные токи (1 сеанс) (4 поля)         375\n",
       "Взятие мазка                                      366\n",
       "Лазеротерапия (1 сеанс)                           357\n",
       "Гинекологический мазок                            320\n",
       "Рефрактометрия                                    282\n",
       "Сеанс рефлексотерапии                             273\n",
       "Интерпретация ЭКГ с описанием                     240\n",
       "Комплексная мануальная терапия                    238\n",
       "Снятие ЭКГ (без интерпретации и описания)         236\n",
       "Name: service_name, dtype: int64"
      ]
     },
     "execution_count": 52,
     "metadata": {},
     "output_type": "execute_result"
    }
   ],
   "source": [
    "# топ-15 самых популярных процедур ушедших клиентов\n",
    "data_сhurn['service_name'].value_counts().head(15)"
   ]
  },
  {
   "cell_type": "markdown",
   "id": "5fe82630-bd06-408e-944b-9fdf0ffe603f",
   "metadata": {},
   "source": [
    "Посещаемость по месяцам."
   ]
  },
  {
   "cell_type": "code",
   "execution_count": 53,
   "id": "17f68ca6-f7ba-40e9-acba-f83eaf0e3ec7",
   "metadata": {},
   "outputs": [
    {
     "data": {
      "image/png": "[encoded data removed]",
      "text/plain": [
       "<Figure size 1500x400 with 1 Axes>"
      ]
     },
     "metadata": {},
     "output_type": "display_data"
    }
   ],
   "source": [
    "# построение гистограммы посещаемости по месяцам ушедших клиентов\n",
    "# задаём размер\n",
    "plt.figure(figsize=(15, 4))\n",
    "\n",
    "# построение\n",
    "sns.histplot(data=data_сhurn, x='service_date', palette =\"coolwarm\", stat='density', common_norm=False, \n",
    "             alpha=.35, kde=True)\n",
    "\n",
    "# заголовок и оси\n",
    "plt.title('Гистограмма посещений по дате')\n",
    "plt.xlabel('Дата')\n",
    "plt.ylabel('Плотность распределения');"
   ]
  },
  {
   "cell_type": "markdown",
   "id": "84e8088d-3295-4d7a-a750-d6fdf01225ed",
   "metadata": {},
   "source": [
    "Пик посещения клиники ушедшими клиентами приходится на март, апрель и июнь 2021 года. По гистограмме можно наблюдать уменьшение количества посещений к концу года."
   ]
  },
  {
   "cell_type": "markdown",
   "id": "e75899da-6ed3-40e0-bca5-eada1a4c6c2d",
   "metadata": {},
   "source": [
    "#### Новые клиенты"
   ]
  },
  {
   "cell_type": "code",
   "execution_count": 54,
   "id": "92827b52-229c-4095-aa8b-3b3f84d81a72",
   "metadata": {},
   "outputs": [],
   "source": [
    "# Создадим таблицу с новыми клиентами\n",
    "# Оставим в данных 2022 года тех клиентов, которых нет в таблице 2021.\n",
    "data_new = data_2022[~(data_2022.insured.isin(data_2021.insured.unique()))] "
   ]
  },
  {
   "cell_type": "code",
   "execution_count": 55,
   "id": "e9046441-14d8-4953-9dc1-ea98cd144cf6",
   "metadata": {},
   "outputs": [
    {
     "data": {
      "text/plain": [
       "Взятие крови из периферической вены              1368\n",
       "Магнитотерапия (1 сеанс)                         1009\n",
       "Общий анализ крови (лейкоцитарная форм,, СОЭ)    1000\n",
       "Прием трапевта, первичный                         641\n",
       "Прием гинеколога, повторный                       634\n",
       "Взятие мазка                                      599\n",
       "Общий анализ мочи                                 476\n",
       "Прием невролога, первичный                        473\n",
       "Лазеротерапия (1 сеанс)                           456\n",
       "Прием отоларинголога, первичный                   428\n",
       "Гинекологический мазок                            421\n",
       "Интерференционные токи (1 сеанс) (4 поля)         401\n",
       "Прием гинеколога, первичный                       388\n",
       "Прием терапевта , повторный                       384\n",
       "Прием офтальмолога,  первичный                    383\n",
       "Name: service_name, dtype: int64"
      ]
     },
     "execution_count": 55,
     "metadata": {},
     "output_type": "execute_result"
    }
   ],
   "source": [
    "# топ-15 самых популярных процедур новых клиентов\n",
    "data_new['service_name'].value_counts().head(15)"
   ]
  },
  {
   "cell_type": "code",
   "execution_count": 56,
   "id": "745eab3b-6c86-4117-b49e-c4c1798f0a9b",
   "metadata": {},
   "outputs": [
    {
     "data": {
      "image/png": "[encoded data removed]",
      "text/plain": [
       "<Figure size 1500x400 with 1 Axes>"
      ]
     },
     "metadata": {},
     "output_type": "display_data"
    }
   ],
   "source": [
    "# размер\n",
    "plt.figure(figsize=(15, 4))\n",
    "\n",
    "# построение\n",
    "sns.histplot(data=data_new, x='service_date', palette =\"coolwarm\", stat='density', common_norm=False, \n",
    "             alpha=.35, kde=True)\n",
    "\n",
    "# заголовок и оси\n",
    "plt.title('Гистограмма посещений по дате')\n",
    "plt.xlabel('Дата')\n",
    "plt.ylabel('Плотность распределения');"
   ]
  },
  {
   "cell_type": "markdown",
   "id": "f354431b-852b-4531-877f-7ab056c7053b",
   "metadata": {},
   "source": [
    "У новых клиентов пики посещений приходятся на апрель и июнь 2022 года."
   ]
  },
  {
   "cell_type": "markdown",
   "id": "cd2b6032-13c9-4e99-a622-74878fa99e8e",
   "metadata": {},
   "source": [
    "#### Постоянные клиенты"
   ]
  },
  {
   "cell_type": "code",
   "execution_count": 57,
   "id": "5f915254-d199-4b5a-a5c8-4cf8a88e1943",
   "metadata": {},
   "outputs": [
    {
     "data": {
      "text/plain": [
       "2               Взятие крови из периферической вены\n",
       "3     Общий анализ крови (лейкоцитарная форм,, СОЭ)\n",
       "4                          Магнитотерапия (1 сеанс)\n",
       "5                                 Общий анализ мочи\n",
       "6                           Лазеротерапия (1 сеанс)\n",
       "10                                     Взятие мазка\n",
       "8         Интерференционные токи (1 сеанс) (4 поля)\n",
       "31                      Прием гинеколога, повторный\n",
       "7                             Сеанс рефлексотерапии\n",
       "11                           Гинекологический мазок\n",
       "32                        Прием трапевта, первичный\n",
       "12                   Комплексная мануальная терапия\n",
       "14        Снятие ЭКГ (без интерпретации и описания)\n",
       "15                    Интерпретация ЭКГ с описанием\n",
       "34                      Прием терапевта , повторный\n",
       "Name: service_name, dtype: object"
      ]
     },
     "execution_count": 57,
     "metadata": {},
     "output_type": "execute_result"
    }
   ],
   "source": [
    "# Строим таблицу, в которую будут входить использованные услуги постоянных клиентов и количество посещений в 2021 и 2022 годах.\n",
    "data_regular = pd.concat([data_merge['service_name_x'].value_counts().head(40), \n",
    "           data_merge['service_name_y'].value_counts().head(40)], axis=1).reset_index()\n",
    "\n",
    "# переименовываем столбцы\n",
    "data_regular.columns = ['service_name', 'count_2021', 'count_2022']\n",
    "\n",
    "# считаем суммарное количестов посещений за 2 года\n",
    "data_regular['count'] = data_regular['count_2021'] + data_regular['count_2022']\n",
    "\n",
    "# сортируем датафрейм по убиванию количества посещений\n",
    "data_regular = data_regular.sort_values(by = 'count', ascending=False)\n",
    "\n",
    "# топ-15 самых популярных процедур постоянных клиентов\n",
    "data_regular['service_name'].head(15)"
   ]
  },
  {
   "cell_type": "markdown",
   "id": "367fa735-c049-44ed-abe8-005a4377a1a7",
   "metadata": {},
   "source": [
    "Популярные процедуры постоянных клиентов охватывают популярные процедуры по всему датафрейму, посчитанные в пункте 3.4."
   ]
  },
  {
   "cell_type": "markdown",
   "id": "b1565ee9-db5c-4454-980e-5079b9856ba1",
   "metadata": {},
   "source": [
    "#### Сравнение ушедших и новых клиентов"
   ]
  },
  {
   "cell_type": "code",
   "execution_count": 58,
   "id": "5c2393ce-6dcf-47f6-b0e5-4fc716ada1dd",
   "metadata": {},
   "outputs": [
    {
     "data": {
      "text/html": [
       "<div>\n",
       "<style scoped>\n",
       "    .dataframe tbody tr th:only-of-type {\n",
       "        vertical-align: middle;\n",
       "    }\n",
       "\n",
       "    .dataframe tbody tr th {\n",
       "        vertical-align: top;\n",
       "    }\n",
       "\n",
       "    .dataframe thead th {\n",
       "        text-align: right;\n",
       "    }\n",
       "</style>\n",
       "<table border=\"1\" class=\"dataframe\">\n",
       "  <thead>\n",
       "    <tr style=\"text-align: right;\">\n",
       "      <th></th>\n",
       "      <th>service_name</th>\n",
       "      <th>count_churn</th>\n",
       "      <th>count_new</th>\n",
       "    </tr>\n",
       "  </thead>\n",
       "  <tbody>\n",
       "    <tr>\n",
       "      <th>0</th>\n",
       "      <td>Прием первичный</td>\n",
       "      <td>3774.0</td>\n",
       "      <td>NaN</td>\n",
       "    </tr>\n",
       "    <tr>\n",
       "      <th>1</th>\n",
       "      <td>Прием повторный</td>\n",
       "      <td>2682.0</td>\n",
       "      <td>NaN</td>\n",
       "    </tr>\n",
       "    <tr>\n",
       "      <th>2</th>\n",
       "      <td>Взятие крови из периферической вены</td>\n",
       "      <td>1194.0</td>\n",
       "      <td>1368.0</td>\n",
       "    </tr>\n",
       "    <tr>\n",
       "      <th>3</th>\n",
       "      <td>Общий анализ крови (лейкоцитарная форм,, СОЭ)</td>\n",
       "      <td>905.0</td>\n",
       "      <td>1000.0</td>\n",
       "    </tr>\n",
       "    <tr>\n",
       "      <th>4</th>\n",
       "      <td>Магнитотерапия (1 сеанс)</td>\n",
       "      <td>815.0</td>\n",
       "      <td>1009.0</td>\n",
       "    </tr>\n",
       "    <tr>\n",
       "      <th>5</th>\n",
       "      <td>Общий анализ мочи</td>\n",
       "      <td>430.0</td>\n",
       "      <td>476.0</td>\n",
       "    </tr>\n",
       "    <tr>\n",
       "      <th>6</th>\n",
       "      <td>Интерференционные токи (1 сеанс) (4 поля)</td>\n",
       "      <td>375.0</td>\n",
       "      <td>401.0</td>\n",
       "    </tr>\n",
       "    <tr>\n",
       "      <th>7</th>\n",
       "      <td>Взятие мазка</td>\n",
       "      <td>366.0</td>\n",
       "      <td>599.0</td>\n",
       "    </tr>\n",
       "    <tr>\n",
       "      <th>8</th>\n",
       "      <td>Лазеротерапия (1 сеанс)</td>\n",
       "      <td>357.0</td>\n",
       "      <td>456.0</td>\n",
       "    </tr>\n",
       "    <tr>\n",
       "      <th>9</th>\n",
       "      <td>Гинекологический мазок</td>\n",
       "      <td>320.0</td>\n",
       "      <td>421.0</td>\n",
       "    </tr>\n",
       "  </tbody>\n",
       "</table>\n",
       "</div>"
      ],
      "text/plain": [
       "                                    service_name  count_churn  count_new\n",
       "0                                Прием первичный       3774.0        NaN\n",
       "1                                Прием повторный       2682.0        NaN\n",
       "2            Взятие крови из периферической вены       1194.0     1368.0\n",
       "3  Общий анализ крови (лейкоцитарная форм,, СОЭ)        905.0     1000.0\n",
       "4                       Магнитотерапия (1 сеанс)        815.0     1009.0\n",
       "5                              Общий анализ мочи        430.0      476.0\n",
       "6      Интерференционные токи (1 сеанс) (4 поля)        375.0      401.0\n",
       "7                                   Взятие мазка        366.0      599.0\n",
       "8                        Лазеротерапия (1 сеанс)        357.0      456.0\n",
       "9                         Гинекологический мазок        320.0      421.0"
      ]
     },
     "execution_count": 58,
     "metadata": {},
     "output_type": "execute_result"
    }
   ],
   "source": [
    "# таблица описывает самые популярные услуги у ушедших, новых и постоянных клиентов\n",
    "# count_churn - количество строк услуги у ушедших клиентов, count_new - количество строк услуги у новых, count_regular - у постоянных\n",
    "data_comparison = pd.concat([data_сhurn['service_name'].value_counts().head(20), \n",
    "                     data_new['service_name'].value_counts().head(20)], axis=1).reset_index()\n",
    "data_comparison.columns = ['service_name', 'count_churn', 'count_new']\n",
    "data_comparison.head(10)"
   ]
  },
  {
   "cell_type": "markdown",
   "id": "7c539a23-1c75-4ece-8b06-9fa007fb9b47",
   "metadata": {},
   "source": [
    "Новые клиенты и ушедшие клиенты практически одинаковые в процентном соотношении по всему датафрейму, поэтому по данной таблице можно утверждать что новые клиенты более активные, чем ушедшие."
   ]
  },
  {
   "cell_type": "markdown",
   "id": "0fcb379f-4d73-4048-bc5b-dddcae7d4f18",
   "metadata": {},
   "source": [
    "<div style=\"border:solid blue 2px; padding: 20px\">\n",
    "    \n",
    "**Вывод по пункту.**</br>\n",
    "* Процент ушедших клиентов: 38.57%.\n",
    "* Процент постоянных клиентов: 17.47%.\n",
    "* Процент новых клиентов: 43.96%.\n",
    "* Популярные процедуры постоянных клиентов охватывают общепопулярные процедуры.\n",
    "* Новые клиенты более активные посетители клиники, чем ушедшие клиенты.\n",
    "* Наблюдается сезонность посещений в марте, апреле, июне 2021 года и апреле и июне 2022 года."
   ]
  },
  {
   "cell_type": "markdown",
   "id": "005f6181-5e33-4146-b577-a84e9052a139",
   "metadata": {},
   "source": [
    "### 3.6. Прибыль."
   ]
  },
  {
   "cell_type": "markdown",
   "id": "51ada2af-4d7b-41f1-a129-4ebc9393865b",
   "metadata": {},
   "source": [
    "#### Стоимость по услугам"
   ]
  },
  {
   "cell_type": "code",
   "execution_count": 59,
   "id": "fbe334ab-4a49-4bc1-b82b-412426a0e95f",
   "metadata": {},
   "outputs": [
    {
     "data": {
      "text/html": [
       "<div>\n",
       "<style scoped>\n",
       "    .dataframe tbody tr th:only-of-type {\n",
       "        vertical-align: middle;\n",
       "    }\n",
       "\n",
       "    .dataframe tbody tr th {\n",
       "        vertical-align: top;\n",
       "    }\n",
       "\n",
       "    .dataframe thead th {\n",
       "        text-align: right;\n",
       "    }\n",
       "</style>\n",
       "<table border=\"1\" class=\"dataframe\">\n",
       "  <thead>\n",
       "    <tr style=\"text-align: right;\">\n",
       "      <th></th>\n",
       "      <th>record_id_x</th>\n",
       "      <th>service_date_x</th>\n",
       "      <th>service_name</th>\n",
       "      <th>service_amount_x</th>\n",
       "      <th>service_number_x</th>\n",
       "      <th>insured_x</th>\n",
       "      <th>sex_id_x</th>\n",
       "      <th>age_for_service_date_x</th>\n",
       "      <th>year_x</th>\n",
       "      <th>month_x</th>\n",
       "      <th>...</th>\n",
       "      <th>record_id_y</th>\n",
       "      <th>service_date_y</th>\n",
       "      <th>service_amount_y</th>\n",
       "      <th>service_number_y</th>\n",
       "      <th>insured_y</th>\n",
       "      <th>sex_id_y</th>\n",
       "      <th>age_for_service_date_y</th>\n",
       "      <th>year_y</th>\n",
       "      <th>month_y</th>\n",
       "      <th>age_type_y</th>\n",
       "    </tr>\n",
       "  </thead>\n",
       "  <tbody>\n",
       "    <tr>\n",
       "      <th>0</th>\n",
       "      <td>30268157103</td>\n",
       "      <td>2021-01-24</td>\n",
       "      <td>Взятие материала на посев, цитологическое иссл...</td>\n",
       "      <td>284</td>\n",
       "      <td>1</td>\n",
       "      <td>490777</td>\n",
       "      <td>2.0</td>\n",
       "      <td>26</td>\n",
       "      <td>2021</td>\n",
       "      <td>1</td>\n",
       "      <td>...</td>\n",
       "      <td>31996300203</td>\n",
       "      <td>2022-01-11</td>\n",
       "      <td>300</td>\n",
       "      <td>1</td>\n",
       "      <td>774352</td>\n",
       "      <td>2.0</td>\n",
       "      <td>28</td>\n",
       "      <td>2022</td>\n",
       "      <td>1</td>\n",
       "      <td>молодые</td>\n",
       "    </tr>\n",
       "    <tr>\n",
       "      <th>1</th>\n",
       "      <td>30268157103</td>\n",
       "      <td>2021-01-24</td>\n",
       "      <td>Взятие материала на посев, цитологическое иссл...</td>\n",
       "      <td>284</td>\n",
       "      <td>1</td>\n",
       "      <td>490777</td>\n",
       "      <td>2.0</td>\n",
       "      <td>26</td>\n",
       "      <td>2021</td>\n",
       "      <td>1</td>\n",
       "      <td>...</td>\n",
       "      <td>31996506903</td>\n",
       "      <td>2022-01-23</td>\n",
       "      <td>300</td>\n",
       "      <td>1</td>\n",
       "      <td>160072</td>\n",
       "      <td>2.0</td>\n",
       "      <td>24</td>\n",
       "      <td>2022</td>\n",
       "      <td>1</td>\n",
       "      <td>молодые</td>\n",
       "    </tr>\n",
       "  </tbody>\n",
       "</table>\n",
       "<p>2 rows × 21 columns</p>\n",
       "</div>"
      ],
      "text/plain": [
       "   record_id_x service_date_x  \\\n",
       "0  30268157103     2021-01-24   \n",
       "1  30268157103     2021-01-24   \n",
       "\n",
       "                                        service_name  service_amount_x  \\\n",
       "0  Взятие материала на посев, цитологическое иссл...               284   \n",
       "1  Взятие материала на посев, цитологическое иссл...               284   \n",
       "\n",
       "   service_number_x  insured_x  sex_id_x  age_for_service_date_x  year_x  \\\n",
       "0                 1     490777       2.0                      26    2021   \n",
       "1                 1     490777       2.0                      26    2021   \n",
       "\n",
       "   month_x  ...  record_id_y  service_date_y service_amount_y  \\\n",
       "0        1  ...  31996300203      2022-01-11              300   \n",
       "1        1  ...  31996506903      2022-01-23              300   \n",
       "\n",
       "   service_number_y  insured_y  sex_id_y  age_for_service_date_y  year_y  \\\n",
       "0                 1     774352       2.0                      28    2022   \n",
       "1                 1     160072       2.0                      24    2022   \n",
       "\n",
       "   month_y  age_type_y  \n",
       "0        1     молодые  \n",
       "1        1     молодые  \n",
       "\n",
       "[2 rows x 21 columns]"
      ]
     },
     "execution_count": 59,
     "metadata": {},
     "output_type": "execute_result"
    }
   ],
   "source": [
    "# соедимим таблицы data_2021_8 и data_2022 по наименованию услуг\n",
    "table_merge = data_2021_8.merge(data_2022, how = 'inner', left_on='service_name', right_on='service_name')\n",
    "table_merge.head(2)"
   ]
  },
  {
   "cell_type": "code",
   "execution_count": 60,
   "id": "a7774c38-6c9c-4c02-9621-b250507c88be",
   "metadata": {},
   "outputs": [
    {
     "data": {
      "text/html": [
       "<div>\n",
       "<style scoped>\n",
       "    .dataframe tbody tr th:only-of-type {\n",
       "        vertical-align: middle;\n",
       "    }\n",
       "\n",
       "    .dataframe tbody tr th {\n",
       "        vertical-align: top;\n",
       "    }\n",
       "\n",
       "    .dataframe thead th {\n",
       "        text-align: right;\n",
       "    }\n",
       "</style>\n",
       "<table border=\"1\" class=\"dataframe\">\n",
       "  <thead>\n",
       "    <tr style=\"text-align: right;\">\n",
       "      <th></th>\n",
       "      <th>service_name</th>\n",
       "      <th>service_amount_x</th>\n",
       "      <th>service_amount_y</th>\n",
       "    </tr>\n",
       "  </thead>\n",
       "  <tbody>\n",
       "    <tr>\n",
       "      <th>0</th>\n",
       "      <td>Взятие материала на посев, цитологическое иссл...</td>\n",
       "      <td>284</td>\n",
       "      <td>300</td>\n",
       "    </tr>\n",
       "    <tr>\n",
       "      <th>14</th>\n",
       "      <td>Взятие материала на посев, цитологическое иссл...</td>\n",
       "      <td>284</td>\n",
       "      <td>600</td>\n",
       "    </tr>\n",
       "  </tbody>\n",
       "</table>\n",
       "</div>"
      ],
      "text/plain": [
       "                                         service_name  service_amount_x  \\\n",
       "0   Взятие материала на посев, цитологическое иссл...               284   \n",
       "14  Взятие материала на посев, цитологическое иссл...               284   \n",
       "\n",
       "    service_amount_y  \n",
       "0                300  \n",
       "14               600  "
      ]
     },
     "execution_count": 60,
     "metadata": {},
     "output_type": "execute_result"
    }
   ],
   "source": [
    "# оставим только те услуги, у которых разная стоимость и удалим дубликаты\n",
    "data_amount = table_merge.query('service_amount_x != service_amount_y') \\\n",
    "[['service_name', 'service_amount_x', 'service_amount_y']].drop_duplicates()\n",
    "data_amount.head(2)"
   ]
  },
  {
   "cell_type": "code",
   "execution_count": 61,
   "id": "d1e1dc3e-5d75-4b29-8e11-d58975a8baa0",
   "metadata": {},
   "outputs": [
    {
     "name": "stdout",
     "output_type": "stream",
     "text": [
      "Количество услуг, которые выросли в цене: 433\n",
      "Количество услуг, которые упали в цене: 6\n"
     ]
    }
   ],
   "source": [
    "# подсчёт услуг, которые подорожали и услуг, которые упали в цене\n",
    "print('Количество услуг, которые выросли в цене:', \n",
    "       len(data_amount.drop_duplicates(['service_name']).query('service_amount_x < service_amount_y')))\n",
    "print('Количество услуг, которые упали в цене:',      \n",
    "       len(data_amount.drop_duplicates(['service_name']).query('service_amount_x > service_amount_y')))"
   ]
  },
  {
   "cell_type": "markdown",
   "id": "5757c793-b706-461d-9c21-7955cfb9539e",
   "metadata": {},
   "source": [
    "Практически все услуги выросли в цене. В пункте 3.3. мы также обнаружили, что первичный и повторный приёмы выросли в цене на 5.52% и 5.79% соответственно."
   ]
  },
  {
   "cell_type": "markdown",
   "id": "582868c9-048c-4c34-9464-15b06c7778a8",
   "metadata": {},
   "source": [
    "#### Общая прибыль"
   ]
  },
  {
   "cell_type": "code",
   "execution_count": 62,
   "id": "6c400aa3-eb32-46ac-b25d-69758ad233dd",
   "metadata": {},
   "outputs": [
    {
     "name": "stdout",
     "output_type": "stream",
     "text": [
      "Выручка за 8 месяцев 2021 года: 29957552\n",
      "Выручка за 8 месяцев 2022 года: 48986662\n",
      "На сколько возросла выручка: 19029110\n"
     ]
    }
   ],
   "source": [
    "print('Выручка за 8 месяцев 2021 года:', data_2021_8['service_amount'].sum())\n",
    "print('Выручка за 8 месяцев 2022 года:', data_2022['service_amount'].sum())\n",
    "print('На сколько возросла выручка:', data_2022['service_amount'].sum() - data_2021_8['service_amount'].sum())"
   ]
  },
  {
   "cell_type": "markdown",
   "id": "ccec5923-a9f5-4849-aec4-071d15e1f16b",
   "metadata": {},
   "source": [
    "Суммарная выручка за 8 месяцев 2021 года ~ 30млн. Суммарная выручка за 2022 год ~ 49млн. Суммарная выручка возросла на 19млн."
   ]
  },
  {
   "cell_type": "markdown",
   "id": "bb344e19-84ef-4f3f-8e5a-48efe6138ee3",
   "metadata": {},
   "source": [
    "#### Чек одного клиента по годам"
   ]
  },
  {
   "cell_type": "code",
   "execution_count": 63,
   "id": "8432a28d-c1a3-4255-81bc-a3e2013fa863",
   "metadata": {},
   "outputs": [
    {
     "data": {
      "text/html": [
       "<div>\n",
       "<style scoped>\n",
       "    .dataframe tbody tr th:only-of-type {\n",
       "        vertical-align: middle;\n",
       "    }\n",
       "\n",
       "    .dataframe tbody tr th {\n",
       "        vertical-align: top;\n",
       "    }\n",
       "\n",
       "    .dataframe thead tr th {\n",
       "        text-align: left;\n",
       "    }\n",
       "</style>\n",
       "<table border=\"1\" class=\"dataframe\">\n",
       "  <thead>\n",
       "    <tr>\n",
       "      <th></th>\n",
       "      <th>insured</th>\n",
       "      <th>sum</th>\n",
       "    </tr>\n",
       "    <tr>\n",
       "      <th></th>\n",
       "      <th></th>\n",
       "      <th>service_amount</th>\n",
       "    </tr>\n",
       "  </thead>\n",
       "  <tbody>\n",
       "    <tr>\n",
       "      <th>0</th>\n",
       "      <td>125073</td>\n",
       "      <td>9274</td>\n",
       "    </tr>\n",
       "    <tr>\n",
       "      <th>1</th>\n",
       "      <td>125094</td>\n",
       "      <td>4479</td>\n",
       "    </tr>\n",
       "  </tbody>\n",
       "</table>\n",
       "</div>"
      ],
      "text/plain": [
       "  insured            sum\n",
       "          service_amount\n",
       "0  125073           9274\n",
       "1  125094           4479"
      ]
     },
     "execution_count": 63,
     "metadata": {},
     "output_type": "execute_result"
    }
   ],
   "source": [
    "# Соберем сводную таблицу, которая будет отражать какую прибыть принёс каждый клиент за новый период 2021 года.\n",
    "pivot_2021 = data_2021_8.pivot_table(\n",
    "            index=['insured'],\\\n",
    "            values=['service_amount'],\\\n",
    "            aggfunc=['sum']\\\n",
    ").reset_index()\n",
    "pivot_2021.head(2)"
   ]
  },
  {
   "cell_type": "code",
   "execution_count": 64,
   "id": "57e4ace7-e9a2-4748-91c4-516aa12e5184",
   "metadata": {},
   "outputs": [
    {
     "data": {
      "text/html": [
       "<div>\n",
       "<style scoped>\n",
       "    .dataframe tbody tr th:only-of-type {\n",
       "        vertical-align: middle;\n",
       "    }\n",
       "\n",
       "    .dataframe tbody tr th {\n",
       "        vertical-align: top;\n",
       "    }\n",
       "\n",
       "    .dataframe thead th {\n",
       "        text-align: right;\n",
       "    }\n",
       "</style>\n",
       "<table border=\"1\" class=\"dataframe\">\n",
       "  <thead>\n",
       "    <tr style=\"text-align: right;\">\n",
       "      <th></th>\n",
       "      <th>service_amount</th>\n",
       "    </tr>\n",
       "  </thead>\n",
       "  <tbody>\n",
       "    <tr>\n",
       "      <th>count</th>\n",
       "      <td>1733.000000</td>\n",
       "    </tr>\n",
       "    <tr>\n",
       "      <th>mean</th>\n",
       "      <td>17286.527409</td>\n",
       "    </tr>\n",
       "    <tr>\n",
       "      <th>std</th>\n",
       "      <td>22271.874478</td>\n",
       "    </tr>\n",
       "    <tr>\n",
       "      <th>min</th>\n",
       "      <td>788.000000</td>\n",
       "    </tr>\n",
       "    <tr>\n",
       "      <th>25%</th>\n",
       "      <td>3476.000000</td>\n",
       "    </tr>\n",
       "    <tr>\n",
       "      <th>50%</th>\n",
       "      <td>9188.000000</td>\n",
       "    </tr>\n",
       "    <tr>\n",
       "      <th>75%</th>\n",
       "      <td>22021.000000</td>\n",
       "    </tr>\n",
       "    <tr>\n",
       "      <th>max</th>\n",
       "      <td>250861.000000</td>\n",
       "    </tr>\n",
       "  </tbody>\n",
       "</table>\n",
       "</div>"
      ],
      "text/plain": [
       "       service_amount\n",
       "count     1733.000000\n",
       "mean     17286.527409\n",
       "std      22271.874478\n",
       "min        788.000000\n",
       "25%       3476.000000\n",
       "50%       9188.000000\n",
       "75%      22021.000000\n",
       "max     250861.000000"
      ]
     },
     "execution_count": 64,
     "metadata": {},
     "output_type": "execute_result"
    },
    {
     "data": {
      "image/png": "[encoded data removed]",
      "text/plain": [
       "<Figure size 1700x200 with 1 Axes>"
      ]
     },
     "metadata": {},
     "output_type": "display_data"
    }
   ],
   "source": [
    "# Построим диаграмму размаха значений восьмимесячных чеков клиентов за 2021 год.\n",
    "fig, ax = plt.subplots(figsize = (17,2))\n",
    "ax = pivot_2021[['sum']].boxplot(vert = False, ax =ax)\n",
    "ax.set_title('Диаграмма размаха значений восьмимесячных чеков клиентов за 2021 год')\n",
    "ax.set_xlim(0, 300000);\n",
    "pivot_2021['sum'].describe()"
   ]
  },
  {
   "cell_type": "code",
   "execution_count": 65,
   "id": "f2cc2d56-9a0f-4d7e-a409-51a8cc13e6ba",
   "metadata": {},
   "outputs": [
    {
     "data": {
      "text/html": [
       "<div>\n",
       "<style scoped>\n",
       "    .dataframe tbody tr th:only-of-type {\n",
       "        vertical-align: middle;\n",
       "    }\n",
       "\n",
       "    .dataframe tbody tr th {\n",
       "        vertical-align: top;\n",
       "    }\n",
       "\n",
       "    .dataframe thead tr th {\n",
       "        text-align: left;\n",
       "    }\n",
       "</style>\n",
       "<table border=\"1\" class=\"dataframe\">\n",
       "  <thead>\n",
       "    <tr>\n",
       "      <th></th>\n",
       "      <th>insured</th>\n",
       "      <th>sum</th>\n",
       "    </tr>\n",
       "    <tr>\n",
       "      <th></th>\n",
       "      <th></th>\n",
       "      <th>service_amount</th>\n",
       "    </tr>\n",
       "  </thead>\n",
       "  <tbody>\n",
       "    <tr>\n",
       "      <th>0</th>\n",
       "      <td>125094</td>\n",
       "      <td>6380</td>\n",
       "    </tr>\n",
       "    <tr>\n",
       "      <th>1</th>\n",
       "      <td>142438</td>\n",
       "      <td>8630</td>\n",
       "    </tr>\n",
       "  </tbody>\n",
       "</table>\n",
       "</div>"
      ],
      "text/plain": [
       "  insured            sum\n",
       "          service_amount\n",
       "0  125094           6380\n",
       "1  142438           8630"
      ]
     },
     "execution_count": 65,
     "metadata": {},
     "output_type": "execute_result"
    }
   ],
   "source": [
    "# Аналогичная таблица для 2022 года.\n",
    "pivot_2022 = data_2022.pivot_table(\n",
    "            index=['insured'],\\\n",
    "            values=['service_amount'],\\\n",
    "            aggfunc=['sum']\\\n",
    ").reset_index()\n",
    "pivot_2022.head(2)"
   ]
  },
  {
   "cell_type": "code",
   "execution_count": 66,
   "id": "5b815906-735f-46a5-ae32-dff51cfc8ca6",
   "metadata": {},
   "outputs": [
    {
     "data": {
      "text/html": [
       "<div>\n",
       "<style scoped>\n",
       "    .dataframe tbody tr th:only-of-type {\n",
       "        vertical-align: middle;\n",
       "    }\n",
       "\n",
       "    .dataframe tbody tr th {\n",
       "        vertical-align: top;\n",
       "    }\n",
       "\n",
       "    .dataframe thead th {\n",
       "        text-align: right;\n",
       "    }\n",
       "</style>\n",
       "<table border=\"1\" class=\"dataframe\">\n",
       "  <thead>\n",
       "    <tr style=\"text-align: right;\">\n",
       "      <th></th>\n",
       "      <th>service_amount</th>\n",
       "    </tr>\n",
       "  </thead>\n",
       "  <tbody>\n",
       "    <tr>\n",
       "      <th>count</th>\n",
       "      <td>2757.000000</td>\n",
       "    </tr>\n",
       "    <tr>\n",
       "      <th>mean</th>\n",
       "      <td>17768.103736</td>\n",
       "    </tr>\n",
       "    <tr>\n",
       "      <th>std</th>\n",
       "      <td>22186.781436</td>\n",
       "    </tr>\n",
       "    <tr>\n",
       "      <th>min</th>\n",
       "      <td>360.000000</td>\n",
       "    </tr>\n",
       "    <tr>\n",
       "      <th>25%</th>\n",
       "      <td>4032.000000</td>\n",
       "    </tr>\n",
       "    <tr>\n",
       "      <th>50%</th>\n",
       "      <td>9730.000000</td>\n",
       "    </tr>\n",
       "    <tr>\n",
       "      <th>75%</th>\n",
       "      <td>23300.000000</td>\n",
       "    </tr>\n",
       "    <tr>\n",
       "      <th>max</th>\n",
       "      <td>243080.000000</td>\n",
       "    </tr>\n",
       "  </tbody>\n",
       "</table>\n",
       "</div>"
      ],
      "text/plain": [
       "       service_amount\n",
       "count     2757.000000\n",
       "mean     17768.103736\n",
       "std      22186.781436\n",
       "min        360.000000\n",
       "25%       4032.000000\n",
       "50%       9730.000000\n",
       "75%      23300.000000\n",
       "max     243080.000000"
      ]
     },
     "execution_count": 66,
     "metadata": {},
     "output_type": "execute_result"
    },
    {
     "data": {
      "image/png": "[encoded data removed]",
      "text/plain": [
       "<Figure size 1700x200 with 1 Axes>"
      ]
     },
     "metadata": {},
     "output_type": "display_data"
    }
   ],
   "source": [
    "# диаграмма размаха значений восьмимесячных чеков клиентов за 2022 год\n",
    "fig, ax = plt.subplots(figsize = (17,2))\n",
    "ax = pivot_2022[['sum']].boxplot(vert = False, ax =ax)\n",
    "ax.set_title('Диаграмма размаха значений чеков клиентов за 2022 год')\n",
    "ax.set_xlim(0, 300000);\n",
    "pivot_2022['sum'].describe()"
   ]
  },
  {
   "cell_type": "code",
   "execution_count": 164,
   "id": "8499c723-0a83-48ac-a6b4-ae1710bdc081",
   "metadata": {},
   "outputs": [
    {
     "data": {
      "text/html": [
       "<div>\n",
       "<style scoped>\n",
       "    .dataframe tbody tr th:only-of-type {\n",
       "        vertical-align: middle;\n",
       "    }\n",
       "\n",
       "    .dataframe tbody tr th {\n",
       "        vertical-align: top;\n",
       "    }\n",
       "\n",
       "    .dataframe thead th {\n",
       "        text-align: right;\n",
       "    }\n",
       "</style>\n",
       "<table border=\"1\" class=\"dataframe\">\n",
       "  <thead>\n",
       "    <tr style=\"text-align: right;\">\n",
       "      <th></th>\n",
       "      <th>service_amount</th>\n",
       "      <th>service_amount</th>\n",
       "    </tr>\n",
       "  </thead>\n",
       "  <tbody>\n",
       "    <tr>\n",
       "      <th>count</th>\n",
       "      <td>1733.00</td>\n",
       "      <td>2757.00</td>\n",
       "    </tr>\n",
       "    <tr>\n",
       "      <th>mean</th>\n",
       "      <td>17286.53</td>\n",
       "      <td>17768.10</td>\n",
       "    </tr>\n",
       "    <tr>\n",
       "      <th>std</th>\n",
       "      <td>22271.87</td>\n",
       "      <td>22186.78</td>\n",
       "    </tr>\n",
       "    <tr>\n",
       "      <th>min</th>\n",
       "      <td>788.00</td>\n",
       "      <td>360.00</td>\n",
       "    </tr>\n",
       "    <tr>\n",
       "      <th>25%</th>\n",
       "      <td>3476.00</td>\n",
       "      <td>4032.00</td>\n",
       "    </tr>\n",
       "    <tr>\n",
       "      <th>50%</th>\n",
       "      <td>9188.00</td>\n",
       "      <td>9730.00</td>\n",
       "    </tr>\n",
       "    <tr>\n",
       "      <th>75%</th>\n",
       "      <td>22021.00</td>\n",
       "      <td>23300.00</td>\n",
       "    </tr>\n",
       "    <tr>\n",
       "      <th>max</th>\n",
       "      <td>250861.00</td>\n",
       "      <td>243080.00</td>\n",
       "    </tr>\n",
       "  </tbody>\n",
       "</table>\n",
       "</div>"
      ],
      "text/plain": [
       "       service_amount  service_amount\n",
       "count         1733.00         2757.00\n",
       "mean         17286.53        17768.10\n",
       "std          22271.87        22186.78\n",
       "min            788.00          360.00\n",
       "25%           3476.00         4032.00\n",
       "50%           9188.00         9730.00\n",
       "75%          22021.00        23300.00\n",
       "max         250861.00       243080.00"
      ]
     },
     "execution_count": 164,
     "metadata": {},
     "output_type": "execute_result"
    }
   ],
   "source": [
    "# Строим две таблички со статистическими характеристиками рядом.\n",
    "stat_table = pd.concat([pivot_2021['sum'].describe().round(2), pivot_2022['sum'].describe().round(2)], axis=1)\n",
    "stat_table"
   ]
  },
  {
   "cell_type": "markdown",
   "id": "ea2f27e8-b839-4462-9ad6-89f09005aa52",
   "metadata": {},
   "source": [
    "<div style=\"border:solid blue 2px; padding: 20px\">\n",
    "    \n",
    "**Вывод по пункту.**</br>\n",
    "* 433 услуги подорожали, 6 услуг упали в цене.\n",
    "* Максимальная сумма, которую принёс клиент за 8 месяцев каждого года упала с 250тыс. до 243тыс. руб.\n",
    "* Среднее вырасло с 17,3тыс. до 17,8тыс. руб.\n",
    "* Медиана выросла с 9,2тыс. до 9,7тыс. руб.\n",
    "* Минимальная сумма упала на 428 руб."
   ]
  },
  {
   "cell_type": "markdown",
   "id": "923c64a8-6c1a-493a-be4e-8e8acf6f9a7d",
   "metadata": {},
   "source": [
    "### 3.7. Анализ по лечениям."
   ]
  },
  {
   "cell_type": "markdown",
   "id": "b5ed0dfb-ab71-48bb-8772-1faf2880822a",
   "metadata": {},
   "source": [
    "#### Подсчёт количества лечений у пациентов."
   ]
  },
  {
   "cell_type": "markdown",
   "id": "8f82c66f-a480-4b3a-a439-0ddd09027743",
   "metadata": {},
   "source": [
    "Будем считать, что **лечение** - это последовательность мед услуг, полученных клиентом, интервал между которыми не более 14 дней."
   ]
  },
  {
   "cell_type": "markdown",
   "id": "5d1c1ad6-c861-4c27-92b0-39d6db7fe859",
   "metadata": {},
   "source": [
    "Для анализа датафрейма по лечениям и создания столбца, который будет отображать количество лечений у каждого клиента, используем следующий подход:\n",
    "\n",
    "1. Отсортируем датафрейм по столбцам \"insured\" и \"service_date\" в возрастающем порядке, чтобы данные для каждого пациента были сгруппированы и отсортированы по дате оказания услуги.\n",
    "\n",
    "2. Создадим новый столбец \"treatment_id\" для идентификации каждого лечения. Значение \"treatment_id\" будет увеличиваться на 1 каждый раз, когда проходит более 14 дней с предыдущего лечения.\n",
    "\n",
    "3. Используя метод группировки и агрегации данных, создадим таблицу df_results, в которой будут храниться количество лечений для каждого клиента и суммарная цена его лечения."
   ]
  },
  {
   "cell_type": "code",
   "execution_count": 68,
   "id": "16f4cb4f-8b7a-423f-96a3-38e67fdce8b6",
   "metadata": {},
   "outputs": [
    {
     "data": {
      "text/html": [
       "<div>\n",
       "<style scoped>\n",
       "    .dataframe tbody tr th:only-of-type {\n",
       "        vertical-align: middle;\n",
       "    }\n",
       "\n",
       "    .dataframe tbody tr th {\n",
       "        vertical-align: top;\n",
       "    }\n",
       "\n",
       "    .dataframe thead th {\n",
       "        text-align: right;\n",
       "    }\n",
       "</style>\n",
       "<table border=\"1\" class=\"dataframe\">\n",
       "  <thead>\n",
       "    <tr style=\"text-align: right;\">\n",
       "      <th></th>\n",
       "      <th>insured</th>\n",
       "      <th>treatment_id</th>\n",
       "      <th>service_amount</th>\n",
       "    </tr>\n",
       "  </thead>\n",
       "  <tbody>\n",
       "    <tr>\n",
       "      <th>0</th>\n",
       "      <td>125073</td>\n",
       "      <td>3</td>\n",
       "      <td>33080</td>\n",
       "    </tr>\n",
       "    <tr>\n",
       "      <th>1</th>\n",
       "      <td>125094</td>\n",
       "      <td>4</td>\n",
       "      <td>27519</td>\n",
       "    </tr>\n",
       "    <tr>\n",
       "      <th>2</th>\n",
       "      <td>125404</td>\n",
       "      <td>1</td>\n",
       "      <td>1470</td>\n",
       "    </tr>\n",
       "    <tr>\n",
       "      <th>3</th>\n",
       "      <td>139315</td>\n",
       "      <td>1</td>\n",
       "      <td>3300</td>\n",
       "    </tr>\n",
       "    <tr>\n",
       "      <th>4</th>\n",
       "      <td>139539</td>\n",
       "      <td>1</td>\n",
       "      <td>75239</td>\n",
       "    </tr>\n",
       "  </tbody>\n",
       "</table>\n",
       "</div>"
      ],
      "text/plain": [
       "   insured  treatment_id  service_amount\n",
       "0   125073             3           33080\n",
       "1   125094             4           27519\n",
       "2   125404             1            1470\n",
       "3   139315             1            3300\n",
       "4   139539             1           75239"
      ]
     },
     "execution_count": 68,
     "metadata": {},
     "output_type": "execute_result"
    }
   ],
   "source": [
    "# Сортировка данных по insured и service_date\n",
    "df_sorted = data.sort_values(by=['insured', 'service_date'])\n",
    "\n",
    "# Создание столбца treatment_id для идентификации лечений\n",
    "df_sorted['treatment_id'] = ((df_sorted['service_date'] - df_sorted.groupby('insured')['service_date'].shift()).dt.days > 14).cumsum()\n",
    "\n",
    "# Группировка данных и подсчет количества лечений\n",
    "df_results = df_sorted.groupby(['insured']).agg({'treatment_id': 'nunique', 'service_amount' : 'sum'}).reset_index()\n",
    "\n",
    "df_results.head()"
   ]
  },
  {
   "cell_type": "markdown",
   "id": "32944f96-ddd8-433d-811f-7f8a4d6a764a",
   "metadata": {},
   "source": [
    "#### Подсчёт количества лечений у пациентов в датафреймах data_2021_8 и data_2022"
   ]
  },
  {
   "cell_type": "code",
   "execution_count": 69,
   "id": "d0b465bb-0db3-442c-a9d8-93e5f54a862f",
   "metadata": {},
   "outputs": [
    {
     "data": {
      "text/html": [
       "<div>\n",
       "<style scoped>\n",
       "    .dataframe tbody tr th:only-of-type {\n",
       "        vertical-align: middle;\n",
       "    }\n",
       "\n",
       "    .dataframe tbody tr th {\n",
       "        vertical-align: top;\n",
       "    }\n",
       "\n",
       "    .dataframe thead th {\n",
       "        text-align: right;\n",
       "    }\n",
       "</style>\n",
       "<table border=\"1\" class=\"dataframe\">\n",
       "  <thead>\n",
       "    <tr style=\"text-align: right;\">\n",
       "      <th></th>\n",
       "      <th>insured</th>\n",
       "      <th>treatment_id</th>\n",
       "      <th>service_amount</th>\n",
       "    </tr>\n",
       "  </thead>\n",
       "  <tbody>\n",
       "    <tr>\n",
       "      <th>0</th>\n",
       "      <td>125073</td>\n",
       "      <td>1</td>\n",
       "      <td>9274</td>\n",
       "    </tr>\n",
       "    <tr>\n",
       "      <th>1</th>\n",
       "      <td>125094</td>\n",
       "      <td>1</td>\n",
       "      <td>4479</td>\n",
       "    </tr>\n",
       "  </tbody>\n",
       "</table>\n",
       "</div>"
      ],
      "text/plain": [
       "   insured  treatment_id  service_amount\n",
       "0   125073             1            9274\n",
       "1   125094             1            4479"
      ]
     },
     "execution_count": 69,
     "metadata": {},
     "output_type": "execute_result"
    }
   ],
   "source": [
    "# Сортировка данных по insured и service_date\n",
    "df_sorted_for_2021 = data_2021_8.sort_values(by=['insured', 'service_date'])\n",
    "\n",
    "# Создание столбца treatment_id для идентификации лечений\n",
    "df_sorted_for_2021['treatment_id'] = ((df_sorted_for_2021['service_date'] - \\\n",
    "                                       df_sorted_for_2021.groupby('insured')['service_date'].shift()).dt.days > 14).cumsum()\n",
    "\n",
    "# Группировка данных и подсчет количества лечений\n",
    "df_results_for_2021 = df_sorted_for_2021.groupby(['insured']).agg({'treatment_id': 'nunique', 'service_amount' : 'sum'}).reset_index()\n",
    "df_results_for_2021.head(2)"
   ]
  },
  {
   "cell_type": "code",
   "execution_count": 70,
   "id": "60218a09-44b4-449e-8df9-84c2e1ba9040",
   "metadata": {},
   "outputs": [
    {
     "data": {
      "text/html": [
       "<div>\n",
       "<style scoped>\n",
       "    .dataframe tbody tr th:only-of-type {\n",
       "        vertical-align: middle;\n",
       "    }\n",
       "\n",
       "    .dataframe tbody tr th {\n",
       "        vertical-align: top;\n",
       "    }\n",
       "\n",
       "    .dataframe thead th {\n",
       "        text-align: right;\n",
       "    }\n",
       "</style>\n",
       "<table border=\"1\" class=\"dataframe\">\n",
       "  <thead>\n",
       "    <tr style=\"text-align: right;\">\n",
       "      <th></th>\n",
       "      <th>insured</th>\n",
       "      <th>treatment_id</th>\n",
       "      <th>service_amount</th>\n",
       "    </tr>\n",
       "  </thead>\n",
       "  <tbody>\n",
       "    <tr>\n",
       "      <th>0</th>\n",
       "      <td>125094</td>\n",
       "      <td>1</td>\n",
       "      <td>6380</td>\n",
       "    </tr>\n",
       "    <tr>\n",
       "      <th>1</th>\n",
       "      <td>142438</td>\n",
       "      <td>1</td>\n",
       "      <td>8630</td>\n",
       "    </tr>\n",
       "  </tbody>\n",
       "</table>\n",
       "</div>"
      ],
      "text/plain": [
       "   insured  treatment_id  service_amount\n",
       "0   125094             1            6380\n",
       "1   142438             1            8630"
      ]
     },
     "execution_count": 70,
     "metadata": {},
     "output_type": "execute_result"
    }
   ],
   "source": [
    "# Сортировка данных по insured и service_date\n",
    "df_sorted_for_2022 = data_2022.sort_values(by=['insured', 'service_date'])\n",
    "\n",
    "# Создание столбца treatment_id для идентификации лечений\n",
    "df_sorted_for_2022['treatment_id'] = ((df_sorted_for_2022['service_date'] - \\\n",
    "                                       df_sorted_for_2022.groupby('insured')['service_date'].shift()).dt.days > 14).cumsum()\n",
    "\n",
    "# Группировка данных и подсчет количества лечений\n",
    "df_results_for_2022 = df_sorted_for_2022.groupby(['insured']).agg({'treatment_id': 'nunique', 'service_amount' : 'sum'}).reset_index()\n",
    "df_results_for_2022.head(2)"
   ]
  },
  {
   "cell_type": "markdown",
   "id": "9e2d6157-7d31-48fe-aa83-f2e1f5d2166a",
   "metadata": {},
   "source": [
    "Построим график числа клиентов по количеству лечений в разрезе года."
   ]
  },
  {
   "cell_type": "code",
   "execution_count": 71,
   "id": "206b0d58-8db7-4b66-a423-406175784d6d",
   "metadata": {},
   "outputs": [
    {
     "data": {
      "image/png": "[encoded data removed]",
      "text/plain": [
       "<Figure size 640x480 with 1 Axes>"
      ]
     },
     "metadata": {},
     "output_type": "display_data"
    }
   ],
   "source": [
    "# введём датафреймы для графика\n",
    "data1 = df_results_for_2021['treatment_id']\n",
    "data2 = df_results_for_2022['treatment_id']\n",
    "\n",
    "# Построение первого графика\n",
    "graph1 = sns.barplot(x=data2.value_counts().index, y=data2.value_counts(), color='blue', alpha=0.7)\n",
    "\n",
    "# Построение второго графика поверх первого\n",
    "graph2 = sns.barplot(x=data1.value_counts().index, y=data1.value_counts(), color='red', alpha=0.7)\n",
    "\n",
    "# Создаем квадраты, представляющие каждый график в легенде\n",
    "legend_patches = [Patch(color='blue', label='2022'), Patch(color='red', label='2021')]\n",
    "\n",
    "# Добавление легенды\n",
    "plt.legend(handles=legend_patches)\n",
    "\n",
    "# Подпись осей и заголовок\n",
    "plt.title('Диаграмма количества клиентов по числу лечений')\n",
    "plt.xlabel('Число лечений')\n",
    "plt.ylabel('Количество клиентов')\n",
    "\n",
    "# Отображение графиков\n",
    "plt.show()"
   ]
  },
  {
   "cell_type": "code",
   "execution_count": 72,
   "id": "055a12ff-42c6-49f0-a111-039f3d159a67",
   "metadata": {},
   "outputs": [
    {
     "data": {
      "text/plain": [
       "1    1072\n",
       "2     366\n",
       "3     180\n",
       "4      75\n",
       "5      27\n",
       "6      12\n",
       "8       1\n",
       "Name: treatment_id, dtype: int64"
      ]
     },
     "execution_count": 72,
     "metadata": {},
     "output_type": "execute_result"
    }
   ],
   "source": [
    "# количество лучений в 2021 году \n",
    "data1.value_counts()"
   ]
  },
  {
   "cell_type": "code",
   "execution_count": 73,
   "id": "4b4b439a-c53f-41e0-8cd2-d0b1687b3838",
   "metadata": {},
   "outputs": [
    {
     "data": {
      "text/plain": [
       "1    1741\n",
       "2     638\n",
       "3     257\n",
       "4      70\n",
       "5      39\n",
       "6       9\n",
       "7       3\n",
       "Name: treatment_id, dtype: int64"
      ]
     },
     "execution_count": 73,
     "metadata": {},
     "output_type": "execute_result"
    }
   ],
   "source": [
    "# количество лучений в 2022 году\n",
    "data2.value_counts()"
   ]
  },
  {
   "cell_type": "markdown",
   "id": "e54e34f8-0579-4cf5-80aa-2ab758b29063",
   "metadata": {},
   "source": [
    "Значительно выросло число клиентов, которые прошли 1 или 2 лечения в клинике. В 2021 году отсутствуют клиенты, которые прошли 7 лечений, в 2022 - 8 лечений."
   ]
  },
  {
   "cell_type": "markdown",
   "id": "a55146ae-fe02-45d6-84cb-296a9b15294a",
   "metadata": {},
   "source": [
    "#### Доход клиники по количеству лечений"
   ]
  },
  {
   "cell_type": "code",
   "execution_count": 74,
   "id": "5c664257-edaa-4e8f-8ed2-51742100d49a",
   "metadata": {},
   "outputs": [
    {
     "data": {
      "image/png": "[encoded data removed]",
      "text/plain": [
       "<Figure size 640x480 with 1 Axes>"
      ]
     },
     "metadata": {},
     "output_type": "display_data"
    }
   ],
   "source": [
    "# вводим новые таблицы для графика\n",
    "df_1 = df_results_for_2021.groupby(['treatment_id']).agg({'service_amount':'sum'}).reset_index()\n",
    "df_2 = df_results_for_2022.groupby(['treatment_id']).agg({'service_amount':'sum'}).reset_index()\n",
    "\n",
    "# построение графиков\n",
    "ax = sns.barplot(x='treatment_id', y='service_amount', data = df_2, color='blue', alpha=0.7)\n",
    "ax = sns.barplot(x='treatment_id', y='service_amount', data = df_1, color='red', alpha=0.7)\n",
    "\n",
    "# Создаем квадраты, представляющие каждый график в легенде\n",
    "legend_patches = [Patch(color='blue', label='2022'), Patch(color='red', label='2021')]\n",
    "\n",
    "# Добавление легенды\n",
    "plt.legend(handles=legend_patches)\n",
    "\n",
    "# Подпись осей и заголовок\n",
    "plt.title('Диаграмма дохода клиники по каждому лечению', pad=20)\n",
    "plt.xlabel('Число лечений')\n",
    "plt.ylabel('Сумма дохода');"
   ]
  },
  {
   "cell_type": "code",
   "execution_count": 75,
   "id": "fbbf3f77-4b42-4bef-b3bc-ee3b23961bec",
   "metadata": {},
   "outputs": [
    {
     "name": "stdout",
     "output_type": "stream",
     "text": [
      "Количество 1 лечения выросло на 38.43 %\n",
      "Доход по 1 лечению вырос на 45.44 %\n",
      "Количество 2 лечений выросло на 42.63 %\n",
      "Доход по 2 лечениям вырос на 42.16 %\n",
      "Количество 3 лечений выросло на 29.96 %\n",
      "Доход по 3 лечениям вырос на 36.33 %\n"
     ]
    }
   ],
   "source": [
    "print('Количество 1 лечения выросло на', \n",
    "                 round((1-df_results_for_2021.query('treatment_id == 1')['insured'].nunique()/ \\\n",
    "                 df_results_for_2022.query('treatment_id == 1')['insured'].nunique())*100, 2), '%')\n",
    "print('Доход по 1 лечению вырос на',\n",
    "                 round((1-df_results_for_2021.query('treatment_id == 1')['service_amount'].sum()/ \\\n",
    "                 df_results_for_2022.query('treatment_id == 1')['service_amount'].sum())*100, 2), '%')\n",
    "print('Количество 2 лечений выросло на',\n",
    "                 round((1-df_results_for_2021.query('treatment_id == 2')['insured'].nunique()/ \\\n",
    "                 df_results_for_2022.query('treatment_id == 2')['insured'].nunique())*100, 2), '%')\n",
    "print('Доход по 2 лечениям вырос на', \n",
    "                 round((1-df_results_for_2021.query('treatment_id == 2')['service_amount'].sum()/ \\\n",
    "                 df_results_for_2022.query('treatment_id == 2')['service_amount'].sum())*100, 2), '%')\n",
    "print('Количество 3 лечений выросло на',\n",
    "                 round((1-df_results_for_2021.query('treatment_id == 3')['insured'].nunique()/ \\\n",
    "                 df_results_for_2022.query('treatment_id == 3')['insured'].nunique())*100, 2), '%')\n",
    "print('Доход по 3 лечениям вырос на',\n",
    "                 round((1-df_results_for_2021.query('treatment_id == 3')['service_amount'].sum()/ \\\n",
    "                 df_results_for_2022.query('treatment_id == 3')['service_amount'].sum())*100, 2), '%')"
   ]
  },
  {
   "cell_type": "markdown",
   "id": "c446ee86-32ad-46eb-8a46-9c95a77a679c",
   "metadata": {},
   "source": [
    "<div style=\"border:solid blue 2px; padding: 20px\">\n",
    "    \n",
    "**Вывод по пункту.**</br>\n",
    "* Большинство клиентов проходят в клинике 1 лечение.\n",
    "* В 2022 году значительно выросло количество клиентов, которые прошли 1 или 2 лечения.\n",
    "* Доход клиники в 2022 году вырос по 1, 2 и 3 лечениям.\n",
    "* По результатам подсчётов доход клиники по процентам растёт сильнее, чем количество лечений в каждом наборе, причём значительный рост приходится на 1 и 3 лечений."
   ]
  },
  {
   "cell_type": "markdown",
   "id": "9cdc88bb-a995-4432-932c-c1b701a1a0e6",
   "metadata": {},
   "source": [
    "## 4. Проверка гипотез.<a id='section_id_4'></a>"
   ]
  },
  {
   "cell_type": "markdown",
   "id": "f3df9561-47d7-4364-8579-b7f3b80eb102",
   "metadata": {},
   "source": [
    "### 4.1. Подорожание услуг. "
   ]
  },
  {
   "cell_type": "markdown",
   "id": "b179fe15-a937-440f-bcfd-a6d9f3357c8b",
   "metadata": {},
   "source": [
    "* Н<sub>0</sub>: Средний доход клиники в 2021 году равен среднему доходу клиники в 2022 году.</br>\n",
    "* Н<sub>1</sub>: Средний доход клиники в 2021 году не равен среднему доходу клиники в 2022 году."
   ]
  },
  {
   "cell_type": "code",
   "execution_count": 106,
   "id": "b2484545-0736-4b5c-b352-ee443d933a0a",
   "metadata": {},
   "outputs": [
    {
     "name": "stdout",
     "output_type": "stream",
     "text": [
      "P-value: 5.607697813297757e-25\n",
      "Отвергаем нулевую гипотезу.\n"
     ]
    }
   ],
   "source": [
    "# проверка различий в доходе клиники до и после подорожания услуг\n",
    "p_value = stats.ttest_ind(data_2021['service_amount'], data_2022['service_amount'])[1]\n",
    "alpha = 0.05\n",
    "\n",
    "if p_value < alpha:\n",
    "    conclusion = \"Отвергаем нулевую гипотезу.\"\n",
    "else:\n",
    "    conclusion = \"Не получилось отвергнуть нулевую гипотезу.\"\n",
    "\n",
    "# Вывод результатов\n",
    "print(f\"P-value: {p_value}\")\n",
    "print(conclusion)"
   ]
  },
  {
   "cell_type": "markdown",
   "id": "2d43fa81-af5a-4c11-a39d-f4ee6d8de53f",
   "metadata": {},
   "source": [
    "<div style=\"border:solid green 2px; padding: 20px\">\n",
    "\n",
    "Наши данные показывают очень маловероятные результаты, поэтому они могут не противоречить альтернативной гипотезе Н<sub>1</sub>. Подорожание услуг является одной из причин изменения дохода клиники."
   ]
  },
  {
   "cell_type": "markdown",
   "id": "29cb5aa2-8636-4352-a9c0-97957ef66f43",
   "metadata": {},
   "source": [
    "### 4.2. Возраст и количество используемых услуг."
   ]
  },
  {
   "cell_type": "markdown",
   "id": "89637000-c821-40db-b428-d49230609dde",
   "metadata": {},
   "source": [
    "* Н<sub>0</sub>: Возраст клиентов имеет влияние на количество используемых услуг.</br>\n",
    "* Н<sub>1</sub>: Возраст клиентов не имеет влияния на количество используемых услуг."
   ]
  },
  {
   "cell_type": "code",
   "execution_count": 94,
   "id": "e3145831-3d51-4107-b8f1-4cc5de0f4aad",
   "metadata": {},
   "outputs": [
    {
     "data": {
      "text/html": [
       "<div>\n",
       "<style scoped>\n",
       "    .dataframe tbody tr th:only-of-type {\n",
       "        vertical-align: middle;\n",
       "    }\n",
       "\n",
       "    .dataframe tbody tr th {\n",
       "        vertical-align: top;\n",
       "    }\n",
       "\n",
       "    .dataframe thead th {\n",
       "        text-align: right;\n",
       "    }\n",
       "</style>\n",
       "<table border=\"1\" class=\"dataframe\">\n",
       "  <thead>\n",
       "    <tr style=\"text-align: right;\">\n",
       "      <th></th>\n",
       "      <th>insured</th>\n",
       "      <th>service_number</th>\n",
       "      <th>age_for_service_date</th>\n",
       "    </tr>\n",
       "  </thead>\n",
       "  <tbody>\n",
       "    <tr>\n",
       "      <th>0</th>\n",
       "      <td>125073</td>\n",
       "      <td>27</td>\n",
       "      <td>65.740741</td>\n",
       "    </tr>\n",
       "    <tr>\n",
       "      <th>1</th>\n",
       "      <td>125094</td>\n",
       "      <td>20</td>\n",
       "      <td>43.789474</td>\n",
       "    </tr>\n",
       "  </tbody>\n",
       "</table>\n",
       "</div>"
      ],
      "text/plain": [
       "   insured  service_number  age_for_service_date\n",
       "0   125073              27             65.740741\n",
       "1   125094              20             43.789474"
      ]
     },
     "execution_count": 94,
     "metadata": {},
     "output_type": "execute_result"
    }
   ],
   "source": [
    "# создадим таблицу по уникальному идентификатору клиента, возрасту и количеству услуг за всё время\n",
    "data_number_of_visitors = data.groupby('insured').agg({'service_number':'sum', 'age_for_service_date':'mean'}).reset_index()\n",
    "data_number_of_visitors.head(2)"
   ]
  },
  {
   "cell_type": "code",
   "execution_count": 100,
   "id": "43ff5d3f-6979-41ce-8948-531b93c71959",
   "metadata": {},
   "outputs": [
    {
     "name": "stdout",
     "output_type": "stream",
     "text": [
      "Коэффициент корреляции: 0.008707663667795849\n",
      "P-value: 4.4016873953319246e-18\n",
      "Гипотеза подтверждена: возраст посетителей оказывает статистически значимое влияние на количество услуг.\n"
     ]
    }
   ],
   "source": [
    "# рассчитаем корреляцию и проведём корреляционный тест\n",
    "correlation = data['age_for_service_date'].corr(data['service_number'])\n",
    "p_value = stats.pearsonr(data_number_of_visitors['age_for_service_date'], data_number_of_visitors['service_number'])[1]\n",
    "alpha = 0.05\n",
    "\n",
    "if p_value < alpha:\n",
    "    conclusion = \"Гипотеза подтверждена: возраст посетителей оказывает статистически значимое влияние на количество услуг.\"\n",
    "else:\n",
    "    conclusion = \"Гипотеза не подтверждена: возраст посетителей не оказывает статистически значимого влияния на количество услуг.\"\n",
    "\n",
    "# Вывод результатов\n",
    "print(f\"Коэффициент корреляции: {correlation}\")\n",
    "print(f\"P-value: {p_value}\")\n",
    "print(conclusion)"
   ]
  },
  {
   "cell_type": "markdown",
   "id": "1837a2fc-ff9e-4138-b7df-2c3b4dfde4f9",
   "metadata": {},
   "source": [
    "<div style=\"border:solid green 2px; padding: 20px\">\n",
    "Наши данные не противоречат нулевой гипотезе. Увеличение количества посетителей сегмента 22-45 лет даёт вклад в рост дохода в 2022 году."
   ]
  },
  {
   "cell_type": "markdown",
   "id": "a574cc3c-5199-4001-bb72-941dfff0d937",
   "metadata": {},
   "source": [
    "### 4.3. Количество лечений на пациента."
   ]
  },
  {
   "cell_type": "markdown",
   "id": "3b9f2fa6-dd34-4148-9a3e-fc483e72a6e3",
   "metadata": {},
   "source": [
    "* Н<sub>0</sub>: Связи между количеством лечений и доходом клиники нет.</br>\n",
    "* Н<sub>1</sub>: Есть связь между количеством лечений и доходом клиники."
   ]
  },
  {
   "cell_type": "code",
   "execution_count": 117,
   "id": "b991af58-e423-4bb9-9194-e550f9f774d8",
   "metadata": {},
   "outputs": [
    {
     "name": "stdout",
     "output_type": "stream",
     "text": [
      "Ранговый коэффициент корреляции Спирмена для 2021 года:  0.5506090672937817\n",
      "p-value для 2021 года:  5.853356836080926e-138\n",
      "Ранговый коэффициент корреляции Спирмена для 2022 года:  0.51726786518626\n",
      "p-value для 2022 года:  1.535541733992347e-188\n"
     ]
    }
   ],
   "source": [
    "# Получить сумму оплаты и количество лечений для каждого пациента\n",
    "service_amount_2021 = df_results_for_2021['service_amount']\n",
    "treatment_count_2021 = df_results_for_2021['treatment_id']\n",
    "\n",
    "service_amount_2022 = df_results_for_2022['service_amount']\n",
    "treatment_count_2022 = df_results_for_2022['treatment_id']\n",
    "\n",
    "# Вычислить ранговый коэффициент корреляции Спирмена\n",
    "correlation, p_value = spearmanr(service_amount_2021, treatment_count_2021)\n",
    "correlation2, p_value2 = spearmanr(service_amount_2022, treatment_count_2022)\n",
    "\n",
    "# Вывести результаты\n",
    "print(\"Ранговый коэффициент корреляции Спирмена для 2021 года: \", correlation)\n",
    "print(\"p-value для 2021 года: \", p_value)\n",
    "print(\"Ранговый коэффициент корреляции Спирмена для 2022 года: \", correlation2)\n",
    "print(\"p-value для 2022 года: \", p_value2)"
   ]
  },
  {
   "cell_type": "markdown",
   "id": "5093c8f1-392a-4582-b6f3-ea0f24b350a5",
   "metadata": {},
   "source": [
    "<div style=\"border:solid green 2px; padding: 20px\">\n",
    "Можно утверждать что существует статистически заметная связь между количеством лечений и доходом клиники."
   ]
  },
  {
   "cell_type": "markdown",
   "id": "9b95e381-ed6b-4c6a-9bbc-808ce0bda12f",
   "metadata": {},
   "source": [
    "## 5. Общий вывод.<a id='section_id_5'></a>"
   ]
  },
  {
   "attachments": {},
   "cell_type": "markdown",
   "id": "c99cd438-53ca-4321-8b96-7c31bc698f4f",
   "metadata": {},
   "source": [
    "По данным медицинского центра нам было необходимо провести анализ изменения цены лечения в клинике в 2022 году относительно 2021 года и определить ключевые драйверы изменения цены лечения.</br>\n",
    "\n",
    "**Исследовательский анализ.**</br>\n",
    "\n",
    "*Посещения*</br>\n",
    "\n",
    "* В 2022 году увеличилось количество записей в таблице, увеличилось количество уникальных клиентов в день, вырос дневной чек клиники.\n",
    "* Принято решение ограничить данные 2021 года до августа включительно.\n",
    "Возраст.\n",
    "* Датафрейм категоризирован по возрасту. Молодые  (22-34 года) и взрослые (34-44 года) клиенты - самые активные и платежеспособные.\n",
    "      * 2022 год показывает рост по количеству молодых клиентов на 39,72% и взрослых на 43,34 %.\n",
    "      * Увеличилась сумма выплат на 39,33 % относительно молодых клиентов и на 45,05 % относительно взрослых.                                                                                                                                                                             *Пол.*</br>\n",
    "      \n",
    "* Количество мужчин выросло на 37.71 %. Количество женщин выросло на 36.85 %.\n",
    "* Доход от женщин увеличился на: 40.6 %. Доход от мужчин увеличился на: 35.96 %.\n",
    "* Не смотря на то, что количество мужчин выросло сильнее на ~1%, доход от женщин вырос на 4.64% больше по сравнению с мужчинами. Можно утверждать что женщины приносят больше прибыли клинике. (Драйвер)\n",
    "\n",
    "*Распределение услуг.*\n",
    "* Топ услуг по всем категориям: Взятие крови из периферической вены; Общий анализ крови; Магнитотерапия; Общий анализ мочи; Взятие мазка; Лазеротерапия.\n",
    "* Наблюдается рост количества популярных услуг и их цена.\n",
    "* При переходе с 2021 года на 2022 клиника изменила структуру прайса, убрав первичный/повторный приём и добавив данные наименования у лечащих врачей.\n",
    "* Рост по количеству первичного и повторного приёма 37.51 % и 35.58 % соответственно. Рост по стоимости первичного/повторного приёма 5.52 % и 5.79 % соответственно.\n",
    "\n",
    "*Анализ стабильности пациентов.*\n",
    "\n",
    "* Процент ушедших клиентов: 38.57%. Процент постоянных клиентов: 17.47%. Процент новых клиентов: 43.96%.\n",
    "* Новые клиенты более активные посетители клиники, чем ушедшие клиенты.\n",
    "* Наблюдается сезонность посещений в марте, апреле, июне 2021 года и апреле и июне 2022 года.\n",
    "  \n",
    "*Анализ прибыли.*\n",
    "\n",
    "* 433 услуги подорожали, 6 услуг упали в цене.\n",
    "* Максимальная сумма, которую принёс клиент за 8 месяцев каждого года упала с 250тыс. до 243тыс. руб.\n",
    "* Среднее вырасло с 17,3тыс. до 17,8тыс. руб. Медиана выросла с 9,2тыс. до 9,7тыс. руб. Минимальная сумма упала на 428 руб.\n",
    "  \n",
    "*Анализ по лечениям.*\n",
    "\n",
    "* Большинство клиентов проходят в клинике 1 лечение.\n",
    "* В 2022 году значительно выросло количество клиентов, которые прошли 1 или 2 лечения. Доход клиники в 2022 году вырос по 1, 2 и 3 лечениям.\n",
    "* По результатам подсчётов доход клиники по процентам растёт сильнее, чем количество лечений в каждом наборе, причём значительный рост приходится на 1 и 3 лечений.\n",
    "\n",
    "**Гипотезы**\n",
    "* Подорожание услуг является одной из причин изменения дохода клиники.\n",
    "* Увеличение количества посетителей сегмента 22-45 лет даёт вклад в рост дохода в 2022 году.\n",
    "* Можно утверждать что существует статистически заметная связь между количеством лечений и доходом клиники.\n",
    "\n",
    "**Драйверы изменения дохода клиники**\n",
    "*  Значительный рост количества клиентов и посещаемости. Новые клиенты более активные, чем ушедшие посетители.\n",
    "* Увеличение количества женщин. Женщины более прибыльная категория клиентов.\n",
    "* Подорожание услуг в клинике.\n",
    "* Увеличение количества платежеспособных сегментов (молодые и взрослые) что, как следствие, показывает увеличение используемых услуг на посетителя и, следовательно, рост прибыли.\n",
    "* Связь между количеством лечений и доходом клиники. Стоит обратить внимание на категории клиентов, которые проходят 1 или 3 лечения за 8 месяцев.\n"
   ]
  }
 ],
 "metadata": {
  "kernelspec": {
   "display_name": "Python 3 (ipykernel)",
   "language": "python",
   "name": "python3"
  },
  "language_info": {
   "codemirror_mode": {
    "name": "ipython",
    "version": 3
   },
   "file_extension": ".py",
   "mimetype": "text/x-python",
   "name": "python",
   "nbconvert_exporter": "python",
   "pygments_lexer": "ipython3",
   "version": "3.9.17"
  }
 },
 "nbformat": 4,
 "nbformat_minor": 5
}
